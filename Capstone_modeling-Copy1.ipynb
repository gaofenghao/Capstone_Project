{
 "cells": [
  {
   "cell_type": "code",
   "execution_count": 7,
   "metadata": {},
   "outputs": [],
   "source": [
    "import pandas as pd\n",
    "import numpy as np\n",
    "from sys import platform"
   ]
  },
  {
   "cell_type": "code",
   "execution_count": 8,
   "metadata": {},
   "outputs": [],
   "source": [
    "if platform == 'win32':\n",
    "    revenue = pd.read_excel('D:/OneDrive - Emory University/MSBA/Spring/ISOM 689 - Capstone/data/DLY_HTL_COMPSET_PERF_MASKED.xlsx')\n",
    "    competitors = pd.read_excel('D:/OneDrive - Emory University/MSBA/Spring/ISOM 689 - Capstone/data/RATE_SHOP_COMPET_HTL_masked.xlsx')\n",
    "elif platform == 'darwin':\n",
    "    revenue = pd.read_excel('/Volumes/External/OneDrive - Emory University/MSBA/Spring/ISOM 689 - Capstone/data/DLY_HTL_COMPSET_PERF_MASKED.xlsx')\n",
    "    competitors = pd.read_excel('/Volumes/External/OneDrive - Emory University/MSBA/Spring/ISOM 689 - Capstone/data/RATE_SHOP_COMPET_HTL_masked.xlsx')"
   ]
  },
  {
   "cell_type": "code",
   "execution_count": 9,
   "metadata": {},
   "outputs": [
    {
     "data": {
      "text/plain": [
       "(384237, 17)"
      ]
     },
     "execution_count": 9,
     "metadata": {},
     "output_type": "execute_result"
    }
   ],
   "source": [
    "revenue.shape"
   ]
  },
  {
   "cell_type": "code",
   "execution_count": 10,
   "metadata": {},
   "outputs": [
    {
     "data": {
      "text/html": [
       "<div>\n",
       "<style scoped>\n",
       "    .dataframe tbody tr th:only-of-type {\n",
       "        vertical-align: middle;\n",
       "    }\n",
       "\n",
       "    .dataframe tbody tr th {\n",
       "        vertical-align: top;\n",
       "    }\n",
       "\n",
       "    .dataframe thead th {\n",
       "        text-align: right;\n",
       "    }\n",
       "</style>\n",
       "<table border=\"1\" class=\"dataframe\">\n",
       "  <thead>\n",
       "    <tr style=\"text-align: right;\">\n",
       "      <th></th>\n",
       "      <th>FAC_ID</th>\n",
       "      <th>RPT_DAY_DT_TY</th>\n",
       "      <th>htl_rms_avl</th>\n",
       "      <th>htl_rms_act</th>\n",
       "      <th>htl_rev_const_usd_act</th>\n",
       "      <th>comp_rms_avl</th>\n",
       "      <th>comp_rms_act</th>\n",
       "      <th>comp_rev_const_usd_act</th>\n",
       "      <th>htl_occ</th>\n",
       "      <th>htl_adr</th>\n",
       "      <th>htl_revpar</th>\n",
       "      <th>comp_occ</th>\n",
       "      <th>comp_adr</th>\n",
       "      <th>comp_revpar</th>\n",
       "      <th>mpi</th>\n",
       "      <th>ari</th>\n",
       "      <th>rgi</th>\n",
       "    </tr>\n",
       "  </thead>\n",
       "  <tbody>\n",
       "    <tr>\n",
       "      <th>0</th>\n",
       "      <td>3</td>\n",
       "      <td>2017-01-01</td>\n",
       "      <td>122.0</td>\n",
       "      <td>23.0</td>\n",
       "      <td>2295.0</td>\n",
       "      <td>122.0</td>\n",
       "      <td>18.633441</td>\n",
       "      <td>1673.086817</td>\n",
       "      <td>0.188525</td>\n",
       "      <td>99.782609</td>\n",
       "      <td>18.811475</td>\n",
       "      <td>0.152733</td>\n",
       "      <td>89.789471</td>\n",
       "      <td>13.713826</td>\n",
       "      <td>1.234341</td>\n",
       "      <td>1.111295</td>\n",
       "      <td>1.371716</td>\n",
       "    </tr>\n",
       "    <tr>\n",
       "      <th>1</th>\n",
       "      <td>3</td>\n",
       "      <td>2017-01-02</td>\n",
       "      <td>122.0</td>\n",
       "      <td>23.0</td>\n",
       "      <td>2378.0</td>\n",
       "      <td>122.0</td>\n",
       "      <td>19.418006</td>\n",
       "      <td>1888.254019</td>\n",
       "      <td>0.188525</td>\n",
       "      <td>103.391304</td>\n",
       "      <td>19.491803</td>\n",
       "      <td>0.159164</td>\n",
       "      <td>97.242426</td>\n",
       "      <td>15.477492</td>\n",
       "      <td>1.184468</td>\n",
       "      <td>1.063232</td>\n",
       "      <td>1.259364</td>\n",
       "    </tr>\n",
       "    <tr>\n",
       "      <th>2</th>\n",
       "      <td>3</td>\n",
       "      <td>2017-01-03</td>\n",
       "      <td>122.0</td>\n",
       "      <td>30.0</td>\n",
       "      <td>3104.0</td>\n",
       "      <td>122.0</td>\n",
       "      <td>41.974277</td>\n",
       "      <td>4078.173633</td>\n",
       "      <td>0.245902</td>\n",
       "      <td>103.466667</td>\n",
       "      <td>25.442623</td>\n",
       "      <td>0.344051</td>\n",
       "      <td>97.158877</td>\n",
       "      <td>33.427653</td>\n",
       "      <td>0.714724</td>\n",
       "      <td>1.064922</td>\n",
       "      <td>0.761125</td>\n",
       "    </tr>\n",
       "    <tr>\n",
       "      <th>3</th>\n",
       "      <td>3</td>\n",
       "      <td>2017-01-04</td>\n",
       "      <td>122.0</td>\n",
       "      <td>46.0</td>\n",
       "      <td>4664.0</td>\n",
       "      <td>122.0</td>\n",
       "      <td>54.919614</td>\n",
       "      <td>5540.408360</td>\n",
       "      <td>0.377049</td>\n",
       "      <td>101.391304</td>\n",
       "      <td>38.229508</td>\n",
       "      <td>0.450161</td>\n",
       "      <td>100.882143</td>\n",
       "      <td>45.413183</td>\n",
       "      <td>0.837587</td>\n",
       "      <td>1.005047</td>\n",
       "      <td>0.841815</td>\n",
       "    </tr>\n",
       "    <tr>\n",
       "      <th>4</th>\n",
       "      <td>3</td>\n",
       "      <td>2017-01-05</td>\n",
       "      <td>122.0</td>\n",
       "      <td>45.0</td>\n",
       "      <td>4676.0</td>\n",
       "      <td>122.0</td>\n",
       "      <td>46.681672</td>\n",
       "      <td>4449.077170</td>\n",
       "      <td>0.368852</td>\n",
       "      <td>103.911111</td>\n",
       "      <td>38.327869</td>\n",
       "      <td>0.382637</td>\n",
       "      <td>95.306723</td>\n",
       "      <td>36.467846</td>\n",
       "      <td>0.963975</td>\n",
       "      <td>1.090281</td>\n",
       "      <td>1.051004</td>\n",
       "    </tr>\n",
       "  </tbody>\n",
       "</table>\n",
       "</div>"
      ],
      "text/plain": [
       "   FAC_ID RPT_DAY_DT_TY  htl_rms_avl  htl_rms_act  htl_rev_const_usd_act  \\\n",
       "0       3    2017-01-01        122.0         23.0                 2295.0   \n",
       "1       3    2017-01-02        122.0         23.0                 2378.0   \n",
       "2       3    2017-01-03        122.0         30.0                 3104.0   \n",
       "3       3    2017-01-04        122.0         46.0                 4664.0   \n",
       "4       3    2017-01-05        122.0         45.0                 4676.0   \n",
       "\n",
       "   comp_rms_avl  comp_rms_act  comp_rev_const_usd_act   htl_occ     htl_adr  \\\n",
       "0         122.0     18.633441             1673.086817  0.188525   99.782609   \n",
       "1         122.0     19.418006             1888.254019  0.188525  103.391304   \n",
       "2         122.0     41.974277             4078.173633  0.245902  103.466667   \n",
       "3         122.0     54.919614             5540.408360  0.377049  101.391304   \n",
       "4         122.0     46.681672             4449.077170  0.368852  103.911111   \n",
       "\n",
       "   htl_revpar  comp_occ    comp_adr  comp_revpar       mpi       ari       rgi  \n",
       "0   18.811475  0.152733   89.789471    13.713826  1.234341  1.111295  1.371716  \n",
       "1   19.491803  0.159164   97.242426    15.477492  1.184468  1.063232  1.259364  \n",
       "2   25.442623  0.344051   97.158877    33.427653  0.714724  1.064922  0.761125  \n",
       "3   38.229508  0.450161  100.882143    45.413183  0.837587  1.005047  0.841815  \n",
       "4   38.327869  0.382637   95.306723    36.467846  0.963975  1.090281  1.051004  "
      ]
     },
     "execution_count": 10,
     "metadata": {},
     "output_type": "execute_result"
    }
   ],
   "source": [
    "revenue.head()"
   ]
  },
  {
   "cell_type": "code",
   "execution_count": 11,
   "metadata": {},
   "outputs": [],
   "source": [
    "revenue = revenue.groupby(['RPT_DAY_DT_TY']).agg({\n",
    "    'htl_rev_const_usd_act':'sum',\n",
    "    'comp_rev_const_usd_act':'sum',\n",
    "}).reset_index()"
   ]
  },
  {
   "cell_type": "code",
   "execution_count": 13,
   "metadata": {},
   "outputs": [],
   "source": [
    "revenue['weekday'] = revenue['RPT_DAY_DT_TY'].dt.weekday.apply(lambda x: 1 if x>=5 and x<7 else 0)"
   ]
  },
  {
   "cell_type": "code",
   "execution_count": 14,
   "metadata": {},
   "outputs": [],
   "source": [
    "for n in range(0,60):\n",
    "    col_name = 'day' + str(n)\n",
    "    revenue[col_name] = revenue['htl_rev_const_usd_act'].shift(365+n)"
   ]
  },
  {
   "cell_type": "code",
   "execution_count": 15,
   "metadata": {},
   "outputs": [
    {
     "data": {
      "text/html": [
       "<div>\n",
       "<style scoped>\n",
       "    .dataframe tbody tr th:only-of-type {\n",
       "        vertical-align: middle;\n",
       "    }\n",
       "\n",
       "    .dataframe tbody tr th {\n",
       "        vertical-align: top;\n",
       "    }\n",
       "\n",
       "    .dataframe thead th {\n",
       "        text-align: right;\n",
       "    }\n",
       "</style>\n",
       "<table border=\"1\" class=\"dataframe\">\n",
       "  <thead>\n",
       "    <tr style=\"text-align: right;\">\n",
       "      <th></th>\n",
       "      <th>RPT_DAY_DT_TY</th>\n",
       "      <th>htl_rev_const_usd_act</th>\n",
       "      <th>comp_rev_const_usd_act</th>\n",
       "      <th>weekday</th>\n",
       "      <th>day0</th>\n",
       "      <th>day1</th>\n",
       "      <th>day2</th>\n",
       "      <th>day3</th>\n",
       "      <th>day4</th>\n",
       "      <th>day5</th>\n",
       "      <th>...</th>\n",
       "      <th>day50</th>\n",
       "      <th>day51</th>\n",
       "      <th>day52</th>\n",
       "      <th>day53</th>\n",
       "      <th>day54</th>\n",
       "      <th>day55</th>\n",
       "      <th>day56</th>\n",
       "      <th>day57</th>\n",
       "      <th>day58</th>\n",
       "      <th>day59</th>\n",
       "    </tr>\n",
       "  </thead>\n",
       "  <tbody>\n",
       "    <tr>\n",
       "      <th>424</th>\n",
       "      <td>2018-03-01</td>\n",
       "      <td>4093360.0</td>\n",
       "      <td>3.877978e+06</td>\n",
       "      <td>0</td>\n",
       "      <td>4316241.0</td>\n",
       "      <td>4233594.0</td>\n",
       "      <td>3589104.0</td>\n",
       "      <td>2369283.0</td>\n",
       "      <td>3982147.0</td>\n",
       "      <td>3911686.0</td>\n",
       "      <td>...</td>\n",
       "      <td>3998577.0</td>\n",
       "      <td>3528333.0</td>\n",
       "      <td>2231125.0</td>\n",
       "      <td>2512777.0</td>\n",
       "      <td>2372526.0</td>\n",
       "      <td>2316549.0</td>\n",
       "      <td>2411719.0</td>\n",
       "      <td>2190306.0</td>\n",
       "      <td>1644727.0</td>\n",
       "      <td>1919278.0</td>\n",
       "    </tr>\n",
       "  </tbody>\n",
       "</table>\n",
       "<p>1 rows × 64 columns</p>\n",
       "</div>"
      ],
      "text/plain": [
       "    RPT_DAY_DT_TY  htl_rev_const_usd_act  comp_rev_const_usd_act  weekday  \\\n",
       "424    2018-03-01              4093360.0            3.877978e+06        0   \n",
       "\n",
       "          day0       day1       day2       day3       day4       day5  ...  \\\n",
       "424  4316241.0  4233594.0  3589104.0  2369283.0  3982147.0  3911686.0  ...   \n",
       "\n",
       "         day50      day51      day52      day53      day54      day55  \\\n",
       "424  3998577.0  3528333.0  2231125.0  2512777.0  2372526.0  2316549.0   \n",
       "\n",
       "         day56      day57      day58      day59  \n",
       "424  2411719.0  2190306.0  1644727.0  1919278.0  \n",
       "\n",
       "[1 rows x 64 columns]"
      ]
     },
     "execution_count": 15,
     "metadata": {},
     "output_type": "execute_result"
    }
   ],
   "source": [
    "revenue[revenue.RPT_DAY_DT_TY=='2018-03-01']"
   ]
  },
  {
   "cell_type": "code",
   "execution_count": 16,
   "metadata": {},
   "outputs": [],
   "source": [
    "train = revenue[(revenue['RPT_DAY_DT_TY'] < '2018-09-01') & (revenue['RPT_DAY_DT_TY'] >= '2018-03-01')]\n",
    "test = revenue[revenue['RPT_DAY_DT_TY'] >= '2018-09-01']"
   ]
  },
  {
   "cell_type": "code",
   "execution_count": 17,
   "metadata": {},
   "outputs": [
    {
     "data": {
      "text/html": [
       "<div>\n",
       "<style scoped>\n",
       "    .dataframe tbody tr th:only-of-type {\n",
       "        vertical-align: middle;\n",
       "    }\n",
       "\n",
       "    .dataframe tbody tr th {\n",
       "        vertical-align: top;\n",
       "    }\n",
       "\n",
       "    .dataframe thead th {\n",
       "        text-align: right;\n",
       "    }\n",
       "</style>\n",
       "<table border=\"1\" class=\"dataframe\">\n",
       "  <thead>\n",
       "    <tr style=\"text-align: right;\">\n",
       "      <th></th>\n",
       "      <th>RPT_DAY_DT_TY</th>\n",
       "      <th>htl_rev_const_usd_act</th>\n",
       "      <th>comp_rev_const_usd_act</th>\n",
       "      <th>weekday</th>\n",
       "      <th>day0</th>\n",
       "      <th>day1</th>\n",
       "      <th>day2</th>\n",
       "      <th>day3</th>\n",
       "      <th>day4</th>\n",
       "      <th>day5</th>\n",
       "      <th>...</th>\n",
       "      <th>day50</th>\n",
       "      <th>day51</th>\n",
       "      <th>day52</th>\n",
       "      <th>day53</th>\n",
       "      <th>day54</th>\n",
       "      <th>day55</th>\n",
       "      <th>day56</th>\n",
       "      <th>day57</th>\n",
       "      <th>day58</th>\n",
       "      <th>day59</th>\n",
       "    </tr>\n",
       "  </thead>\n",
       "  <tbody>\n",
       "    <tr>\n",
       "      <th>603</th>\n",
       "      <td>2018-08-27</td>\n",
       "      <td>3671148.0</td>\n",
       "      <td>3.553462e+06</td>\n",
       "      <td>0</td>\n",
       "      <td>2457140.0</td>\n",
       "      <td>3709073.0</td>\n",
       "      <td>3522285.0</td>\n",
       "      <td>3628440.0</td>\n",
       "      <td>4403684.0</td>\n",
       "      <td>4480180.0</td>\n",
       "      <td>...</td>\n",
       "      <td>4359916.0</td>\n",
       "      <td>4094881.0</td>\n",
       "      <td>3447903.0</td>\n",
       "      <td>3072110.0</td>\n",
       "      <td>2192627.0</td>\n",
       "      <td>2490848.0</td>\n",
       "      <td>2990652.0</td>\n",
       "      <td>4824523.0</td>\n",
       "      <td>4017469.0</td>\n",
       "      <td>3910728.0</td>\n",
       "    </tr>\n",
       "    <tr>\n",
       "      <th>604</th>\n",
       "      <td>2018-08-28</td>\n",
       "      <td>4208820.0</td>\n",
       "      <td>4.091091e+06</td>\n",
       "      <td>0</td>\n",
       "      <td>3550270.0</td>\n",
       "      <td>2457140.0</td>\n",
       "      <td>3709073.0</td>\n",
       "      <td>3522285.0</td>\n",
       "      <td>3628440.0</td>\n",
       "      <td>4403684.0</td>\n",
       "      <td>...</td>\n",
       "      <td>3011583.0</td>\n",
       "      <td>4359916.0</td>\n",
       "      <td>4094881.0</td>\n",
       "      <td>3447903.0</td>\n",
       "      <td>3072110.0</td>\n",
       "      <td>2192627.0</td>\n",
       "      <td>2490848.0</td>\n",
       "      <td>2990652.0</td>\n",
       "      <td>4824523.0</td>\n",
       "      <td>4017469.0</td>\n",
       "    </tr>\n",
       "    <tr>\n",
       "      <th>605</th>\n",
       "      <td>2018-08-29</td>\n",
       "      <td>4024523.0</td>\n",
       "      <td>3.881793e+06</td>\n",
       "      <td>0</td>\n",
       "      <td>3968156.0</td>\n",
       "      <td>3550270.0</td>\n",
       "      <td>2457140.0</td>\n",
       "      <td>3709073.0</td>\n",
       "      <td>3522285.0</td>\n",
       "      <td>3628440.0</td>\n",
       "      <td>...</td>\n",
       "      <td>4621548.0</td>\n",
       "      <td>3011583.0</td>\n",
       "      <td>4359916.0</td>\n",
       "      <td>4094881.0</td>\n",
       "      <td>3447903.0</td>\n",
       "      <td>3072110.0</td>\n",
       "      <td>2192627.0</td>\n",
       "      <td>2490848.0</td>\n",
       "      <td>2990652.0</td>\n",
       "      <td>4824523.0</td>\n",
       "    </tr>\n",
       "    <tr>\n",
       "      <th>606</th>\n",
       "      <td>2018-08-30</td>\n",
       "      <td>3398519.0</td>\n",
       "      <td>3.245674e+06</td>\n",
       "      <td>0</td>\n",
       "      <td>3826626.0</td>\n",
       "      <td>3968156.0</td>\n",
       "      <td>3550270.0</td>\n",
       "      <td>2457140.0</td>\n",
       "      <td>3709073.0</td>\n",
       "      <td>3522285.0</td>\n",
       "      <td>...</td>\n",
       "      <td>5309537.0</td>\n",
       "      <td>4621548.0</td>\n",
       "      <td>3011583.0</td>\n",
       "      <td>4359916.0</td>\n",
       "      <td>4094881.0</td>\n",
       "      <td>3447903.0</td>\n",
       "      <td>3072110.0</td>\n",
       "      <td>2192627.0</td>\n",
       "      <td>2490848.0</td>\n",
       "      <td>2990652.0</td>\n",
       "    </tr>\n",
       "    <tr>\n",
       "      <th>607</th>\n",
       "      <td>2018-08-31</td>\n",
       "      <td>4020019.0</td>\n",
       "      <td>3.921251e+06</td>\n",
       "      <td>0</td>\n",
       "      <td>3329539.0</td>\n",
       "      <td>3826626.0</td>\n",
       "      <td>3968156.0</td>\n",
       "      <td>3550270.0</td>\n",
       "      <td>2457140.0</td>\n",
       "      <td>3709073.0</td>\n",
       "      <td>...</td>\n",
       "      <td>5435038.0</td>\n",
       "      <td>5309537.0</td>\n",
       "      <td>4621548.0</td>\n",
       "      <td>3011583.0</td>\n",
       "      <td>4359916.0</td>\n",
       "      <td>4094881.0</td>\n",
       "      <td>3447903.0</td>\n",
       "      <td>3072110.0</td>\n",
       "      <td>2192627.0</td>\n",
       "      <td>2490848.0</td>\n",
       "    </tr>\n",
       "  </tbody>\n",
       "</table>\n",
       "<p>5 rows × 64 columns</p>\n",
       "</div>"
      ],
      "text/plain": [
       "    RPT_DAY_DT_TY  htl_rev_const_usd_act  comp_rev_const_usd_act  weekday  \\\n",
       "603    2018-08-27              3671148.0            3.553462e+06        0   \n",
       "604    2018-08-28              4208820.0            4.091091e+06        0   \n",
       "605    2018-08-29              4024523.0            3.881793e+06        0   \n",
       "606    2018-08-30              3398519.0            3.245674e+06        0   \n",
       "607    2018-08-31              4020019.0            3.921251e+06        0   \n",
       "\n",
       "          day0       day1       day2       day3       day4       day5  ...  \\\n",
       "603  2457140.0  3709073.0  3522285.0  3628440.0  4403684.0  4480180.0  ...   \n",
       "604  3550270.0  2457140.0  3709073.0  3522285.0  3628440.0  4403684.0  ...   \n",
       "605  3968156.0  3550270.0  2457140.0  3709073.0  3522285.0  3628440.0  ...   \n",
       "606  3826626.0  3968156.0  3550270.0  2457140.0  3709073.0  3522285.0  ...   \n",
       "607  3329539.0  3826626.0  3968156.0  3550270.0  2457140.0  3709073.0  ...   \n",
       "\n",
       "         day50      day51      day52      day53      day54      day55  \\\n",
       "603  4359916.0  4094881.0  3447903.0  3072110.0  2192627.0  2490848.0   \n",
       "604  3011583.0  4359916.0  4094881.0  3447903.0  3072110.0  2192627.0   \n",
       "605  4621548.0  3011583.0  4359916.0  4094881.0  3447903.0  3072110.0   \n",
       "606  5309537.0  4621548.0  3011583.0  4359916.0  4094881.0  3447903.0   \n",
       "607  5435038.0  5309537.0  4621548.0  3011583.0  4359916.0  4094881.0   \n",
       "\n",
       "         day56      day57      day58      day59  \n",
       "603  2990652.0  4824523.0  4017469.0  3910728.0  \n",
       "604  2490848.0  2990652.0  4824523.0  4017469.0  \n",
       "605  2192627.0  2490848.0  2990652.0  4824523.0  \n",
       "606  3072110.0  2192627.0  2490848.0  2990652.0  \n",
       "607  3447903.0  3072110.0  2192627.0  2490848.0  \n",
       "\n",
       "[5 rows x 64 columns]"
      ]
     },
     "execution_count": 17,
     "metadata": {},
     "output_type": "execute_result"
    }
   ],
   "source": [
    "train.tail()"
   ]
  },
  {
   "cell_type": "code",
   "execution_count": 18,
   "metadata": {},
   "outputs": [],
   "source": [
    "train = train.drop('RPT_DAY_DT_TY', axis=1)"
   ]
  },
  {
   "cell_type": "code",
   "execution_count": 19,
   "metadata": {},
   "outputs": [],
   "source": [
    "train = train.drop('comp_rev_const_usd_act', axis=1)"
   ]
  },
  {
   "cell_type": "code",
   "execution_count": 20,
   "metadata": {},
   "outputs": [],
   "source": [
    "X_train = train.drop('htl_rev_const_usd_act', axis=1)\n",
    "y_train = train['htl_rev_const_usd_act']"
   ]
  },
  {
   "cell_type": "code",
   "execution_count": 21,
   "metadata": {},
   "outputs": [],
   "source": [
    "test = test.drop(columns=['RPT_DAY_DT_TY', 'comp_rev_const_usd_act'])\n",
    "X_test = test.drop('htl_rev_const_usd_act', axis=1)\n",
    "y_test = test['htl_rev_const_usd_act']"
   ]
  },
  {
   "cell_type": "code",
   "execution_count": 22,
   "metadata": {},
   "outputs": [],
   "source": [
    "def mean_absolute_percentage_error(y_true, y_pred):\n",
    "    return np.mean(np.abs((y_true - y_pred) / y_true))"
   ]
  },
  {
   "cell_type": "markdown",
   "metadata": {},
   "source": [
    "# Linear Regression"
   ]
  },
  {
   "cell_type": "code",
   "execution_count": 23,
   "metadata": {},
   "outputs": [
    {
     "data": {
      "text/plain": [
       "LinearRegression(copy_X=True, fit_intercept=True, n_jobs=1, normalize=False)"
      ]
     },
     "execution_count": 23,
     "metadata": {},
     "output_type": "execute_result"
    }
   ],
   "source": [
    "from sklearn.linear_model import LinearRegression\n",
    "\n",
    "lr = LinearRegression()\n",
    "lr.fit(X_train, y_train)"
   ]
  },
  {
   "cell_type": "code",
   "execution_count": 24,
   "metadata": {},
   "outputs": [
    {
     "data": {
      "text/plain": [
       "0.8532661327419373"
      ]
     },
     "execution_count": 24,
     "metadata": {},
     "output_type": "execute_result"
    }
   ],
   "source": [
    "# R^2\n",
    "lr.score(X_train, y_train)"
   ]
  },
  {
   "cell_type": "code",
   "execution_count": 25,
   "metadata": {},
   "outputs": [
    {
     "data": {
      "text/plain": [
       "0.1877118452562216"
      ]
     },
     "execution_count": 25,
     "metadata": {},
     "output_type": "execute_result"
    }
   ],
   "source": [
    "y_pred_lr = lr.predict(X_test)\n",
    "mean_absolute_percentage_error(y_test, y_pred_lr)"
   ]
  },
  {
   "cell_type": "markdown",
   "metadata": {},
   "source": [
    "# Ridge"
   ]
  },
  {
   "cell_type": "code",
   "execution_count": 31,
   "metadata": {},
   "outputs": [
    {
     "data": {
      "text/plain": [
       "GridSearchCV(cv=5, error_score='raise',\n",
       "       estimator=Ridge(alpha=1.0, copy_X=True, fit_intercept=True, max_iter=None,\n",
       "   normalize=False, random_state=None, solver='auto', tol=0.001),\n",
       "       fit_params=None, iid=True, n_jobs=-1,\n",
       "       param_grid=[{'alpha': [0.01, 0.1, 1]}], pre_dispatch='2*n_jobs',\n",
       "       refit=True, return_train_score='warn', scoring=None, verbose=0)"
      ]
     },
     "execution_count": 31,
     "metadata": {},
     "output_type": "execute_result"
    }
   ],
   "source": [
    "from sklearn.linear_model import Ridge\n",
    "\n",
    "ridge = GridSearchCV(estimator = Ridge(),\n",
    "                    param_grid=[{'alpha': [0.01, 0.1, 1]}],\n",
    "                    cv=5,\n",
    "                    n_jobs=-1)\n",
    "\n",
    "ridge.fit(X_train, y_train)"
   ]
  },
  {
   "cell_type": "code",
   "execution_count": 32,
   "metadata": {},
   "outputs": [
    {
     "data": {
      "text/plain": [
       "0.1877542685298714"
      ]
     },
     "execution_count": 32,
     "metadata": {},
     "output_type": "execute_result"
    }
   ],
   "source": [
    "y_pred_ridge = ridge.predict(X_test)\n",
    "mean_absolute_percentage_error(y_test, y_pred_ridge)"
   ]
  },
  {
   "cell_type": "markdown",
   "metadata": {},
   "source": [
    "# Lasso"
   ]
  },
  {
   "cell_type": "code",
   "execution_count": 33,
   "metadata": {
    "collapsed": true
   },
   "outputs": [
    {
     "name": "stderr",
     "output_type": "stream",
     "text": [
      "/Users/fenghaogao/anaconda3/lib/python3.6/site-packages/sklearn/linear_model/coordinate_descent.py:491: ConvergenceWarning: Objective did not converge. You might want to increase the number of iterations. Fitting data with very small alpha may cause precision problems.\n",
      "  ConvergenceWarning)\n",
      "/Users/fenghaogao/anaconda3/lib/python3.6/site-packages/sklearn/linear_model/coordinate_descent.py:491: ConvergenceWarning: Objective did not converge. You might want to increase the number of iterations. Fitting data with very small alpha may cause precision problems.\n",
      "  ConvergenceWarning)\n",
      "/Users/fenghaogao/anaconda3/lib/python3.6/site-packages/sklearn/linear_model/coordinate_descent.py:491: ConvergenceWarning: Objective did not converge. You might want to increase the number of iterations. Fitting data with very small alpha may cause precision problems.\n",
      "  ConvergenceWarning)\n",
      "/Users/fenghaogao/anaconda3/lib/python3.6/site-packages/sklearn/linear_model/coordinate_descent.py:491: ConvergenceWarning: Objective did not converge. You might want to increase the number of iterations. Fitting data with very small alpha may cause precision problems.\n",
      "  ConvergenceWarning)\n",
      "/Users/fenghaogao/anaconda3/lib/python3.6/site-packages/sklearn/linear_model/coordinate_descent.py:491: ConvergenceWarning: Objective did not converge. You might want to increase the number of iterations. Fitting data with very small alpha may cause precision problems.\n",
      "  ConvergenceWarning)\n",
      "/Users/fenghaogao/anaconda3/lib/python3.6/site-packages/sklearn/linear_model/coordinate_descent.py:491: ConvergenceWarning: Objective did not converge. You might want to increase the number of iterations. Fitting data with very small alpha may cause precision problems.\n",
      "  ConvergenceWarning)\n",
      "/Users/fenghaogao/anaconda3/lib/python3.6/site-packages/sklearn/linear_model/coordinate_descent.py:491: ConvergenceWarning: Objective did not converge. You might want to increase the number of iterations. Fitting data with very small alpha may cause precision problems.\n",
      "  ConvergenceWarning)\n",
      "/Users/fenghaogao/anaconda3/lib/python3.6/site-packages/sklearn/linear_model/coordinate_descent.py:491: ConvergenceWarning: Objective did not converge. You might want to increase the number of iterations. Fitting data with very small alpha may cause precision problems.\n",
      "  ConvergenceWarning)\n",
      "/Users/fenghaogao/anaconda3/lib/python3.6/site-packages/sklearn/linear_model/coordinate_descent.py:491: ConvergenceWarning: Objective did not converge. You might want to increase the number of iterations. Fitting data with very small alpha may cause precision problems.\n",
      "  ConvergenceWarning)\n",
      "/Users/fenghaogao/anaconda3/lib/python3.6/site-packages/sklearn/linear_model/coordinate_descent.py:491: ConvergenceWarning: Objective did not converge. You might want to increase the number of iterations. Fitting data with very small alpha may cause precision problems.\n",
      "  ConvergenceWarning)\n",
      "/Users/fenghaogao/anaconda3/lib/python3.6/site-packages/sklearn/linear_model/coordinate_descent.py:491: ConvergenceWarning: Objective did not converge. You might want to increase the number of iterations. Fitting data with very small alpha may cause precision problems.\n",
      "  ConvergenceWarning)\n",
      "/Users/fenghaogao/anaconda3/lib/python3.6/site-packages/sklearn/linear_model/coordinate_descent.py:491: ConvergenceWarning: Objective did not converge. You might want to increase the number of iterations. Fitting data with very small alpha may cause precision problems.\n",
      "  ConvergenceWarning)\n",
      "/Users/fenghaogao/anaconda3/lib/python3.6/site-packages/sklearn/linear_model/coordinate_descent.py:491: ConvergenceWarning: Objective did not converge. You might want to increase the number of iterations. Fitting data with very small alpha may cause precision problems.\n",
      "  ConvergenceWarning)\n",
      "/Users/fenghaogao/anaconda3/lib/python3.6/site-packages/sklearn/linear_model/coordinate_descent.py:491: ConvergenceWarning: Objective did not converge. You might want to increase the number of iterations. Fitting data with very small alpha may cause precision problems.\n",
      "  ConvergenceWarning)\n",
      "/Users/fenghaogao/anaconda3/lib/python3.6/site-packages/sklearn/linear_model/coordinate_descent.py:491: ConvergenceWarning: Objective did not converge. You might want to increase the number of iterations. Fitting data with very small alpha may cause precision problems.\n",
      "  ConvergenceWarning)\n",
      "/Users/fenghaogao/anaconda3/lib/python3.6/site-packages/sklearn/linear_model/coordinate_descent.py:491: ConvergenceWarning: Objective did not converge. You might want to increase the number of iterations. Fitting data with very small alpha may cause precision problems.\n",
      "  ConvergenceWarning)\n",
      "/Users/fenghaogao/anaconda3/lib/python3.6/site-packages/sklearn/linear_model/coordinate_descent.py:491: ConvergenceWarning: Objective did not converge. You might want to increase the number of iterations. Fitting data with very small alpha may cause precision problems.\n",
      "  ConvergenceWarning)\n",
      "/Users/fenghaogao/anaconda3/lib/python3.6/site-packages/sklearn/linear_model/coordinate_descent.py:491: ConvergenceWarning: Objective did not converge. You might want to increase the number of iterations. Fitting data with very small alpha may cause precision problems.\n",
      "  ConvergenceWarning)\n",
      "/Users/fenghaogao/anaconda3/lib/python3.6/site-packages/sklearn/linear_model/coordinate_descent.py:491: ConvergenceWarning: Objective did not converge. You might want to increase the number of iterations. Fitting data with very small alpha may cause precision problems.\n",
      "  ConvergenceWarning)\n",
      "/Users/fenghaogao/anaconda3/lib/python3.6/site-packages/sklearn/linear_model/coordinate_descent.py:491: ConvergenceWarning: Objective did not converge. You might want to increase the number of iterations. Fitting data with very small alpha may cause precision problems.\n",
      "  ConvergenceWarning)\n",
      "/Users/fenghaogao/anaconda3/lib/python3.6/site-packages/sklearn/linear_model/coordinate_descent.py:491: ConvergenceWarning: Objective did not converge. You might want to increase the number of iterations. Fitting data with very small alpha may cause precision problems.\n",
      "  ConvergenceWarning)\n"
     ]
    },
    {
     "data": {
      "text/plain": [
       "GridSearchCV(cv=5, error_score='raise',\n",
       "       estimator=Lasso(alpha=1.0, copy_X=True, fit_intercept=True, max_iter=1000,\n",
       "   normalize=False, positive=False, precompute=False, random_state=None,\n",
       "   selection='cyclic', tol=0.0001, warm_start=False),\n",
       "       fit_params=None, iid=True, n_jobs=-1,\n",
       "       param_grid={'alpha': [0.001, 0.01, 0.1, 1]},\n",
       "       pre_dispatch='2*n_jobs', refit=True, return_train_score='warn',\n",
       "       scoring=None, verbose=0)"
      ]
     },
     "execution_count": 33,
     "metadata": {},
     "output_type": "execute_result"
    }
   ],
   "source": [
    "from sklearn.linear_model import Lasso\n",
    "\n",
    "lasso = GridSearchCV(estimator=Lasso(),\n",
    "                    param_grid={'alpha': [0.001, 0.01, 0.1, 1]},\n",
    "                    cv=5,\n",
    "                    n_jobs=-1)\n",
    "\n",
    "lasso.fit(X_train, y_train)"
   ]
  },
  {
   "cell_type": "code",
   "execution_count": 35,
   "metadata": {
    "collapsed": true
   },
   "outputs": [
    {
     "data": {
      "text/plain": [
       "{'cv': 5,\n",
       " 'error_score': 'raise',\n",
       " 'estimator': Lasso(alpha=1.0, copy_X=True, fit_intercept=True, max_iter=1000,\n",
       "    normalize=False, positive=False, precompute=False, random_state=None,\n",
       "    selection='cyclic', tol=0.0001, warm_start=False),\n",
       " 'estimator__alpha': 1.0,\n",
       " 'estimator__copy_X': True,\n",
       " 'estimator__fit_intercept': True,\n",
       " 'estimator__max_iter': 1000,\n",
       " 'estimator__normalize': False,\n",
       " 'estimator__positive': False,\n",
       " 'estimator__precompute': False,\n",
       " 'estimator__random_state': None,\n",
       " 'estimator__selection': 'cyclic',\n",
       " 'estimator__tol': 0.0001,\n",
       " 'estimator__warm_start': False,\n",
       " 'fit_params': None,\n",
       " 'iid': True,\n",
       " 'n_jobs': -1,\n",
       " 'param_grid': {'alpha': [0.001, 0.01, 0.1, 1]},\n",
       " 'pre_dispatch': '2*n_jobs',\n",
       " 'refit': True,\n",
       " 'return_train_score': 'warn',\n",
       " 'scoring': None,\n",
       " 'verbose': 0}"
      ]
     },
     "execution_count": 35,
     "metadata": {},
     "output_type": "execute_result"
    }
   ],
   "source": [
    "lasso.get_params()"
   ]
  },
  {
   "cell_type": "code",
   "execution_count": 34,
   "metadata": {},
   "outputs": [
    {
     "data": {
      "text/plain": [
       "0.187711846723981"
      ]
     },
     "execution_count": 34,
     "metadata": {},
     "output_type": "execute_result"
    }
   ],
   "source": [
    "y_pred_lasso = lasso.predict(X_test)\n",
    "mean_absolute_percentage_error(y_test, y_pred_lasso)"
   ]
  },
  {
   "cell_type": "markdown",
   "metadata": {},
   "source": [
    "# Regression Tree"
   ]
  },
  {
   "cell_type": "code",
   "execution_count": 26,
   "metadata": {},
   "outputs": [
    {
     "data": {
      "text/plain": [
       "GridSearchCV(cv=5, error_score='raise',\n",
       "       estimator=DecisionTreeRegressor(criterion='mse', max_depth=None, max_features=None,\n",
       "           max_leaf_nodes=None, min_impurity_decrease=0.0,\n",
       "           min_impurity_split=None, min_samples_leaf=1,\n",
       "           min_samples_split=2, min_weight_fraction_leaf=0.0,\n",
       "           presort=False, random_state=41, splitter='best'),\n",
       "       fit_params=None, iid=True, n_jobs=-1,\n",
       "       param_grid=[{'max_depth': [1, 2, 3, 4, 5, 6, 7, 8, 9, None], 'criterion': ['mse', 'mae']}],\n",
       "       pre_dispatch='2*n_jobs', refit=True, return_train_score='warn',\n",
       "       scoring=None, verbose=0)"
      ]
     },
     "execution_count": 26,
     "metadata": {},
     "output_type": "execute_result"
    }
   ],
   "source": [
    "from sklearn.model_selection import GridSearchCV\n",
    "from sklearn.tree import DecisionTreeRegressor\n",
    "\n",
    "gs_dt = GridSearchCV(estimator=DecisionTreeRegressor(random_state=41),\n",
    "                  param_grid=[{'max_depth': [1, 2, 3, 4, 5, 6, 7, 8, 9, None],\n",
    "                              'criterion': ['mse', 'mae'],}],\n",
    "                  cv=5,\n",
    "                  n_jobs=-1)\n",
    "\n",
    "gs_dt.fit(X_train, y_train)"
   ]
  },
  {
   "cell_type": "code",
   "execution_count": 27,
   "metadata": {},
   "outputs": [
    {
     "name": "stdout",
     "output_type": "stream",
     "text": [
      "-0.02215879386906294\n",
      "{'criterion': 'mae', 'max_depth': 2}\n",
      "DecisionTreeRegressor(criterion='mae', max_depth=2, max_features=None,\n",
      "           max_leaf_nodes=None, min_impurity_decrease=0.0,\n",
      "           min_impurity_split=None, min_samples_leaf=1,\n",
      "           min_samples_split=2, min_weight_fraction_leaf=0.0,\n",
      "           presort=False, random_state=41, splitter='best')\n"
     ]
    }
   ],
   "source": [
    "print(gs_dt.best_score_)\n",
    "print(gs_dt.best_params_)\n",
    "print(gs_dt.best_estimator_)"
   ]
  },
  {
   "cell_type": "code",
   "execution_count": 63,
   "metadata": {},
   "outputs": [
    {
     "data": {
      "text/plain": [
       "0.27822058175694075"
      ]
     },
     "execution_count": 63,
     "metadata": {},
     "output_type": "execute_result"
    }
   ],
   "source": [
    "y_pred_rt = gs_dt.predict(X_test)\n",
    "mean_absolute_percentage_error(np.array(y_test), y_pred_rt)"
   ]
  },
  {
   "cell_type": "markdown",
   "metadata": {},
   "source": [
    "# KNN"
   ]
  },
  {
   "cell_type": "code",
   "execution_count": 28,
   "metadata": {},
   "outputs": [
    {
     "data": {
      "text/plain": [
       "GridSearchCV(cv=5, error_score='raise',\n",
       "       estimator=KNeighborsRegressor(algorithm='auto', leaf_size=30, metric='minkowski',\n",
       "          metric_params=None, n_jobs=1, n_neighbors=5, p=2,\n",
       "          weights='uniform'),\n",
       "       fit_params=None, iid=True, n_jobs=-1,\n",
       "       param_grid=[{'n_neighbors': [1, 3, 5, 7, 9]}],\n",
       "       pre_dispatch='2*n_jobs', refit=True, return_train_score='warn',\n",
       "       scoring=None, verbose=0)"
      ]
     },
     "execution_count": 28,
     "metadata": {},
     "output_type": "execute_result"
    }
   ],
   "source": [
    "from sklearn.neighbors import KNeighborsRegressor\n",
    "from sklearn.model_selection import GridSearchCV\n",
    "\n",
    "knn = GridSearchCV(estimator=KNeighborsRegressor(),\n",
    "                  param_grid=[{'n_neighbors': [1, 3, 5, 7, 9],}],\n",
    "                  cv=5,\n",
    "                  n_jobs=-1)\n",
    "\n",
    "knn.fit(X_train, y_train)"
   ]
  },
  {
   "cell_type": "code",
   "execution_count": 29,
   "metadata": {},
   "outputs": [
    {
     "data": {
      "text/plain": [
       "0.2739353917653917"
      ]
     },
     "execution_count": 29,
     "metadata": {},
     "output_type": "execute_result"
    }
   ],
   "source": [
    "y_pred_knn = knn.predict(X_test)\n",
    "mean_absolute_percentage_error(y_test, y_pred_knn)"
   ]
  },
  {
   "cell_type": "markdown",
   "metadata": {},
   "source": [
    "# Random Forest"
   ]
  },
  {
   "cell_type": "code",
   "execution_count": 36,
   "metadata": {},
   "outputs": [
    {
     "data": {
      "text/plain": [
       "GridSearchCV(cv=5, error_score='raise',\n",
       "       estimator=RandomForestRegressor(bootstrap=True, criterion='mse', max_depth=None,\n",
       "           max_features='auto', max_leaf_nodes=None,\n",
       "           min_impurity_decrease=0.0, min_impurity_split=None,\n",
       "           min_samples_leaf=1, min_samples_split=2,\n",
       "           min_weight_fraction_leaf=0.0, n_estimators=10, n_jobs=1,\n",
       "           oob_score=False, random_state=None, verbose=0, warm_start=False),\n",
       "       fit_params=None, iid=True, n_jobs=-1,\n",
       "       param_grid={'n_estimators': [10, 20, 30, 40, 50, 60, 70, 80], 'criterion': ['mse', 'mae'], 'max_depth': [5, 7, 9, 11, 13, 15]},\n",
       "       pre_dispatch='2*n_jobs', refit=True, return_train_score='warn',\n",
       "       scoring=None, verbose=0)"
      ]
     },
     "execution_count": 36,
     "metadata": {},
     "output_type": "execute_result"
    }
   ],
   "source": [
    "from sklearn.ensemble import RandomForestRegressor\n",
    "\n",
    "rf = GridSearchCV(estimator=RandomForestRegressor(),\n",
    "                  param_grid={'n_estimators': [10, 20, 30, 40, 50, 60, 70, 80],\n",
    "                             'criterion': ['mse', 'mae'],\n",
    "                             'max_depth': [5, 7, 9, 11, 13, 15],\n",
    "                             },\n",
    "                  cv=5,\n",
    "                  n_jobs=-1)\n",
    "\n",
    "rf.fit(X_train, y_train)"
   ]
  },
  {
   "cell_type": "code",
   "execution_count": 38,
   "metadata": {},
   "outputs": [
    {
     "data": {
      "text/plain": [
       "0.20226586764197846"
      ]
     },
     "execution_count": 38,
     "metadata": {},
     "output_type": "execute_result"
    }
   ],
   "source": [
    "y_pred_rf = rf.predict(X_test)\n",
    "mean_absolute_percentage_error(y_test, y_pred_rf)"
   ]
  },
  {
   "cell_type": "code",
   "execution_count": null,
   "metadata": {},
   "outputs": [],
   "source": []
  }
 ],
 "metadata": {
  "kernelspec": {
   "display_name": "Python 3",
   "language": "python",
   "name": "python3"
  },
  "language_info": {
   "codemirror_mode": {
    "name": "ipython",
    "version": 3
   },
   "file_extension": ".py",
   "mimetype": "text/x-python",
   "name": "python",
   "nbconvert_exporter": "python",
   "pygments_lexer": "ipython3",
   "version": "3.6.4"
  }
 },
 "nbformat": 4,
 "nbformat_minor": 2
}
