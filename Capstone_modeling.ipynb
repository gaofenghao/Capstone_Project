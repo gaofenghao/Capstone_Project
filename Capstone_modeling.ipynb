{
 "cells": [
  {
   "cell_type": "code",
   "execution_count": 1,
   "metadata": {},
   "outputs": [],
   "source": [
    "import pandas as pd\n",
    "import numpy as np\n",
    "from sys import platform"
   ]
  },
  {
   "cell_type": "code",
   "execution_count": 2,
   "metadata": {},
   "outputs": [],
   "source": [
    "if platform == 'win32':\n",
    "    revenue = pd.read_excel('D:/OneDrive - Emory University/MSBA/Spring/ISOM 689 - Capstone/data/DLY_HTL_COMPSET_PERF_MASKED.xlsx')\n",
    "    competitors = pd.read_excel('D:/OneDrive - Emory University/MSBA/Spring/ISOM 689 - Capstone/data/RATE_SHOP_COMPET_HTL_masked.xlsx')\n",
    "elif platform == 'darwin':\n",
    "    revenue = pd.read_excel('/Volumes/External/OneDrive - Emory University/MSBA/Spring/ISOM 689 - Capstone/data/DLY_HTL_COMPSET_PERF_MASKED.xlsx')\n",
    "    competitors = pd.read_excel('/Volumes/External/OneDrive - Emory University/MSBA/Spring/ISOM 689 - Capstone/data/RATE_SHOP_COMPET_HTL_masked.xlsx')"
   ]
  },
  {
   "cell_type": "code",
   "execution_count": 3,
   "metadata": {},
   "outputs": [
    {
     "data": {
      "text/html": [
       "<div>\n",
       "<style scoped>\n",
       "    .dataframe tbody tr th:only-of-type {\n",
       "        vertical-align: middle;\n",
       "    }\n",
       "\n",
       "    .dataframe tbody tr th {\n",
       "        vertical-align: top;\n",
       "    }\n",
       "\n",
       "    .dataframe thead th {\n",
       "        text-align: right;\n",
       "    }\n",
       "</style>\n",
       "<table border=\"1\" class=\"dataframe\">\n",
       "  <thead>\n",
       "    <tr style=\"text-align: right;\">\n",
       "      <th></th>\n",
       "      <th>FAC_ID</th>\n",
       "      <th>RPT_DAY_DT_TY</th>\n",
       "      <th>htl_rms_avl</th>\n",
       "      <th>htl_rms_act</th>\n",
       "      <th>htl_rev_const_usd_act</th>\n",
       "      <th>comp_rms_avl</th>\n",
       "      <th>comp_rms_act</th>\n",
       "      <th>comp_rev_const_usd_act</th>\n",
       "      <th>htl_occ</th>\n",
       "      <th>htl_adr</th>\n",
       "      <th>htl_revpar</th>\n",
       "      <th>comp_occ</th>\n",
       "      <th>comp_adr</th>\n",
       "      <th>comp_revpar</th>\n",
       "      <th>mpi</th>\n",
       "      <th>ari</th>\n",
       "      <th>rgi</th>\n",
       "    </tr>\n",
       "  </thead>\n",
       "  <tbody>\n",
       "    <tr>\n",
       "      <th>0</th>\n",
       "      <td>3</td>\n",
       "      <td>2017-01-01</td>\n",
       "      <td>122.0</td>\n",
       "      <td>23.0</td>\n",
       "      <td>2295.0</td>\n",
       "      <td>122.0</td>\n",
       "      <td>18.633441</td>\n",
       "      <td>1673.086817</td>\n",
       "      <td>0.188525</td>\n",
       "      <td>99.782609</td>\n",
       "      <td>18.811475</td>\n",
       "      <td>0.152733</td>\n",
       "      <td>89.789471</td>\n",
       "      <td>13.713826</td>\n",
       "      <td>1.234341</td>\n",
       "      <td>1.111295</td>\n",
       "      <td>1.371716</td>\n",
       "    </tr>\n",
       "    <tr>\n",
       "      <th>1</th>\n",
       "      <td>3</td>\n",
       "      <td>2017-01-02</td>\n",
       "      <td>122.0</td>\n",
       "      <td>23.0</td>\n",
       "      <td>2378.0</td>\n",
       "      <td>122.0</td>\n",
       "      <td>19.418006</td>\n",
       "      <td>1888.254019</td>\n",
       "      <td>0.188525</td>\n",
       "      <td>103.391304</td>\n",
       "      <td>19.491803</td>\n",
       "      <td>0.159164</td>\n",
       "      <td>97.242426</td>\n",
       "      <td>15.477492</td>\n",
       "      <td>1.184468</td>\n",
       "      <td>1.063232</td>\n",
       "      <td>1.259364</td>\n",
       "    </tr>\n",
       "    <tr>\n",
       "      <th>2</th>\n",
       "      <td>3</td>\n",
       "      <td>2017-01-03</td>\n",
       "      <td>122.0</td>\n",
       "      <td>30.0</td>\n",
       "      <td>3104.0</td>\n",
       "      <td>122.0</td>\n",
       "      <td>41.974277</td>\n",
       "      <td>4078.173633</td>\n",
       "      <td>0.245902</td>\n",
       "      <td>103.466667</td>\n",
       "      <td>25.442623</td>\n",
       "      <td>0.344051</td>\n",
       "      <td>97.158877</td>\n",
       "      <td>33.427653</td>\n",
       "      <td>0.714724</td>\n",
       "      <td>1.064922</td>\n",
       "      <td>0.761125</td>\n",
       "    </tr>\n",
       "    <tr>\n",
       "      <th>3</th>\n",
       "      <td>3</td>\n",
       "      <td>2017-01-04</td>\n",
       "      <td>122.0</td>\n",
       "      <td>46.0</td>\n",
       "      <td>4664.0</td>\n",
       "      <td>122.0</td>\n",
       "      <td>54.919614</td>\n",
       "      <td>5540.408360</td>\n",
       "      <td>0.377049</td>\n",
       "      <td>101.391304</td>\n",
       "      <td>38.229508</td>\n",
       "      <td>0.450161</td>\n",
       "      <td>100.882143</td>\n",
       "      <td>45.413183</td>\n",
       "      <td>0.837587</td>\n",
       "      <td>1.005047</td>\n",
       "      <td>0.841815</td>\n",
       "    </tr>\n",
       "    <tr>\n",
       "      <th>4</th>\n",
       "      <td>3</td>\n",
       "      <td>2017-01-05</td>\n",
       "      <td>122.0</td>\n",
       "      <td>45.0</td>\n",
       "      <td>4676.0</td>\n",
       "      <td>122.0</td>\n",
       "      <td>46.681672</td>\n",
       "      <td>4449.077170</td>\n",
       "      <td>0.368852</td>\n",
       "      <td>103.911111</td>\n",
       "      <td>38.327869</td>\n",
       "      <td>0.382637</td>\n",
       "      <td>95.306723</td>\n",
       "      <td>36.467846</td>\n",
       "      <td>0.963975</td>\n",
       "      <td>1.090281</td>\n",
       "      <td>1.051004</td>\n",
       "    </tr>\n",
       "  </tbody>\n",
       "</table>\n",
       "</div>"
      ],
      "text/plain": [
       "   FAC_ID RPT_DAY_DT_TY  htl_rms_avl  htl_rms_act  htl_rev_const_usd_act  \\\n",
       "0       3    2017-01-01        122.0         23.0                 2295.0   \n",
       "1       3    2017-01-02        122.0         23.0                 2378.0   \n",
       "2       3    2017-01-03        122.0         30.0                 3104.0   \n",
       "3       3    2017-01-04        122.0         46.0                 4664.0   \n",
       "4       3    2017-01-05        122.0         45.0                 4676.0   \n",
       "\n",
       "   comp_rms_avl  comp_rms_act  comp_rev_const_usd_act   htl_occ     htl_adr  \\\n",
       "0         122.0     18.633441             1673.086817  0.188525   99.782609   \n",
       "1         122.0     19.418006             1888.254019  0.188525  103.391304   \n",
       "2         122.0     41.974277             4078.173633  0.245902  103.466667   \n",
       "3         122.0     54.919614             5540.408360  0.377049  101.391304   \n",
       "4         122.0     46.681672             4449.077170  0.368852  103.911111   \n",
       "\n",
       "   htl_revpar  comp_occ    comp_adr  comp_revpar       mpi       ari       rgi  \n",
       "0   18.811475  0.152733   89.789471    13.713826  1.234341  1.111295  1.371716  \n",
       "1   19.491803  0.159164   97.242426    15.477492  1.184468  1.063232  1.259364  \n",
       "2   25.442623  0.344051   97.158877    33.427653  0.714724  1.064922  0.761125  \n",
       "3   38.229508  0.450161  100.882143    45.413183  0.837587  1.005047  0.841815  \n",
       "4   38.327869  0.382637   95.306723    36.467846  0.963975  1.090281  1.051004  "
      ]
     },
     "execution_count": 3,
     "metadata": {},
     "output_type": "execute_result"
    }
   ],
   "source": [
    "revenue.head()"
   ]
  },
  {
   "cell_type": "code",
   "execution_count": 4,
   "metadata": {},
   "outputs": [],
   "source": [
    "revenue['week'] = revenue['RPT_DAY_DT_TY'].dt.week\n",
    "revenue['weekday'] = revenue['RPT_DAY_DT_TY'].dt.weekday\n",
    "revenue['weekday'] = revenue['weekday'].apply(lambda x: 1 if x>=5 and x<7 else 0)"
   ]
  },
  {
   "cell_type": "code",
   "execution_count": 5,
   "metadata": {},
   "outputs": [],
   "source": [
    "revenue_t = revenue.drop(columns=['htl_rms_act', 'comp_rms_act', 'comp_rev_const_usd_act', 'htl_occ', 'htl_adr', 'htl_revpar', 'comp_occ', 'comp_adr', 'comp_revpar', 'comp_revpar'])"
   ]
  },
  {
   "cell_type": "code",
   "execution_count": 6,
   "metadata": {},
   "outputs": [],
   "source": [
    "revenue_t = revenue.groupby(['RPT_DAY_DT_TY']).agg({\n",
    "    'htl_rms_avl':'sum',\n",
    "    'htl_rms_act':'sum',\n",
    "    'htl_rev_const_usd_act':'sum',\n",
    "    'comp_rms_avl': 'sum',\n",
    "    'comp_rms_act':'sum',\n",
    "    'htl_occ':'mean',\n",
    "    'htl_adr':'mean',\n",
    "    'htl_revpar':'mean',\n",
    "    'comp_occ':'mean',\n",
    "    'comp_adr':'mean',\n",
    "    'comp_revpar':'mean',\n",
    "    'mpi':'mean',\n",
    "    'ari':'mean',\n",
    "    'rgi':'mean'\n",
    "}).reset_index()"
   ]
  },
  {
   "cell_type": "code",
   "execution_count": 7,
   "metadata": {},
   "outputs": [
    {
     "data": {
      "text/html": [
       "<div>\n",
       "<style scoped>\n",
       "    .dataframe tbody tr th:only-of-type {\n",
       "        vertical-align: middle;\n",
       "    }\n",
       "\n",
       "    .dataframe tbody tr th {\n",
       "        vertical-align: top;\n",
       "    }\n",
       "\n",
       "    .dataframe thead th {\n",
       "        text-align: right;\n",
       "    }\n",
       "</style>\n",
       "<table border=\"1\" class=\"dataframe\">\n",
       "  <thead>\n",
       "    <tr style=\"text-align: right;\">\n",
       "      <th></th>\n",
       "      <th>RPT_DAY_DT_TY</th>\n",
       "      <th>htl_rms_avl</th>\n",
       "      <th>htl_rms_act</th>\n",
       "      <th>htl_rev_const_usd_act</th>\n",
       "      <th>comp_rms_avl</th>\n",
       "      <th>comp_rms_act</th>\n",
       "      <th>htl_occ</th>\n",
       "      <th>htl_adr</th>\n",
       "      <th>htl_revpar</th>\n",
       "      <th>comp_occ</th>\n",
       "      <th>comp_adr</th>\n",
       "      <th>comp_revpar</th>\n",
       "      <th>mpi</th>\n",
       "      <th>ari</th>\n",
       "      <th>rgi</th>\n",
       "    </tr>\n",
       "  </thead>\n",
       "  <tbody>\n",
       "    <tr>\n",
       "      <th>0</th>\n",
       "      <td>2017-01-01</td>\n",
       "      <td>44584.0</td>\n",
       "      <td>18069.0</td>\n",
       "      <td>1919278.0</td>\n",
       "      <td>44584.0</td>\n",
       "      <td>18402.412654</td>\n",
       "      <td>0.388624</td>\n",
       "      <td>98.868890</td>\n",
       "      <td>40.253241</td>\n",
       "      <td>0.397860</td>\n",
       "      <td>91.176314</td>\n",
       "      <td>38.429649</td>\n",
       "      <td>1.016219</td>\n",
       "      <td>1.098248</td>\n",
       "      <td>1.101329</td>\n",
       "    </tr>\n",
       "    <tr>\n",
       "      <th>1</th>\n",
       "      <td>2017-01-02</td>\n",
       "      <td>44506.0</td>\n",
       "      <td>16156.0</td>\n",
       "      <td>1644727.0</td>\n",
       "      <td>44506.0</td>\n",
       "      <td>16145.604331</td>\n",
       "      <td>0.357318</td>\n",
       "      <td>98.323008</td>\n",
       "      <td>35.973401</td>\n",
       "      <td>0.353072</td>\n",
       "      <td>90.219076</td>\n",
       "      <td>32.891860</td>\n",
       "      <td>1.054211</td>\n",
       "      <td>1.104781</td>\n",
       "      <td>1.153845</td>\n",
       "    </tr>\n",
       "    <tr>\n",
       "      <th>2</th>\n",
       "      <td>2017-01-03</td>\n",
       "      <td>44506.0</td>\n",
       "      <td>21533.0</td>\n",
       "      <td>2190306.0</td>\n",
       "      <td>44506.0</td>\n",
       "      <td>20907.894596</td>\n",
       "      <td>0.485761</td>\n",
       "      <td>99.346875</td>\n",
       "      <td>48.983506</td>\n",
       "      <td>0.463943</td>\n",
       "      <td>93.271486</td>\n",
       "      <td>43.972421</td>\n",
       "      <td>1.070747</td>\n",
       "      <td>1.075261</td>\n",
       "      <td>1.153374</td>\n",
       "    </tr>\n",
       "    <tr>\n",
       "      <th>3</th>\n",
       "      <td>2017-01-04</td>\n",
       "      <td>44506.0</td>\n",
       "      <td>23574.0</td>\n",
       "      <td>2411719.0</td>\n",
       "      <td>44506.0</td>\n",
       "      <td>23034.766894</td>\n",
       "      <td>0.531713</td>\n",
       "      <td>99.995536</td>\n",
       "      <td>53.912270</td>\n",
       "      <td>0.511141</td>\n",
       "      <td>93.920616</td>\n",
       "      <td>48.676046</td>\n",
       "      <td>1.061534</td>\n",
       "      <td>1.074512</td>\n",
       "      <td>1.146913</td>\n",
       "    </tr>\n",
       "    <tr>\n",
       "      <th>4</th>\n",
       "      <td>2017-01-05</td>\n",
       "      <td>44506.0</td>\n",
       "      <td>22707.0</td>\n",
       "      <td>2316549.0</td>\n",
       "      <td>44506.0</td>\n",
       "      <td>22419.653502</td>\n",
       "      <td>0.507666</td>\n",
       "      <td>99.229336</td>\n",
       "      <td>51.295744</td>\n",
       "      <td>0.496153</td>\n",
       "      <td>92.750095</td>\n",
       "      <td>46.818849</td>\n",
       "      <td>1.049533</td>\n",
       "      <td>1.078654</td>\n",
       "      <td>1.136998</td>\n",
       "    </tr>\n",
       "  </tbody>\n",
       "</table>\n",
       "</div>"
      ],
      "text/plain": [
       "  RPT_DAY_DT_TY  htl_rms_avl  htl_rms_act  htl_rev_const_usd_act  \\\n",
       "0    2017-01-01      44584.0      18069.0              1919278.0   \n",
       "1    2017-01-02      44506.0      16156.0              1644727.0   \n",
       "2    2017-01-03      44506.0      21533.0              2190306.0   \n",
       "3    2017-01-04      44506.0      23574.0              2411719.0   \n",
       "4    2017-01-05      44506.0      22707.0              2316549.0   \n",
       "\n",
       "   comp_rms_avl  comp_rms_act   htl_occ    htl_adr  htl_revpar  comp_occ  \\\n",
       "0       44584.0  18402.412654  0.388624  98.868890   40.253241  0.397860   \n",
       "1       44506.0  16145.604331  0.357318  98.323008   35.973401  0.353072   \n",
       "2       44506.0  20907.894596  0.485761  99.346875   48.983506  0.463943   \n",
       "3       44506.0  23034.766894  0.531713  99.995536   53.912270  0.511141   \n",
       "4       44506.0  22419.653502  0.507666  99.229336   51.295744  0.496153   \n",
       "\n",
       "    comp_adr  comp_revpar       mpi       ari       rgi  \n",
       "0  91.176314    38.429649  1.016219  1.098248  1.101329  \n",
       "1  90.219076    32.891860  1.054211  1.104781  1.153845  \n",
       "2  93.271486    43.972421  1.070747  1.075261  1.153374  \n",
       "3  93.920616    48.676046  1.061534  1.074512  1.146913  \n",
       "4  92.750095    46.818849  1.049533  1.078654  1.136998  "
      ]
     },
     "execution_count": 7,
     "metadata": {},
     "output_type": "execute_result"
    }
   ],
   "source": [
    "revenue_t.head()"
   ]
  },
  {
   "cell_type": "code",
   "execution_count": 8,
   "metadata": {},
   "outputs": [],
   "source": [
    "# from statsmodels.graphics.tsaplots import plot_acf, plot_pacf\n",
    "# from matplotlib import pyplot as plt\n",
    "\n",
    "# plot_pacf(revenue_t.htl_rev_const_usd_act)\n",
    "# plt.show()"
   ]
  },
  {
   "cell_type": "code",
   "execution_count": 9,
   "metadata": {},
   "outputs": [],
   "source": [
    "revenue_60 = revenue_t[['RPT_DAY_DT_TY', 'htl_rms_act']]"
   ]
  },
  {
   "cell_type": "code",
   "execution_count": 10,
   "metadata": {},
   "outputs": [
    {
     "data": {
      "text/html": [
       "<div>\n",
       "<style scoped>\n",
       "    .dataframe tbody tr th:only-of-type {\n",
       "        vertical-align: middle;\n",
       "    }\n",
       "\n",
       "    .dataframe tbody tr th {\n",
       "        vertical-align: top;\n",
       "    }\n",
       "\n",
       "    .dataframe thead th {\n",
       "        text-align: right;\n",
       "    }\n",
       "</style>\n",
       "<table border=\"1\" class=\"dataframe\">\n",
       "  <thead>\n",
       "    <tr style=\"text-align: right;\">\n",
       "      <th></th>\n",
       "      <th>RPT_DAY_DT_TY</th>\n",
       "      <th>htl_rms_act</th>\n",
       "    </tr>\n",
       "  </thead>\n",
       "  <tbody>\n",
       "    <tr>\n",
       "      <th>0</th>\n",
       "      <td>2017-01-01</td>\n",
       "      <td>18069.0</td>\n",
       "    </tr>\n",
       "    <tr>\n",
       "      <th>1</th>\n",
       "      <td>2017-01-02</td>\n",
       "      <td>16156.0</td>\n",
       "    </tr>\n",
       "    <tr>\n",
       "      <th>2</th>\n",
       "      <td>2017-01-03</td>\n",
       "      <td>21533.0</td>\n",
       "    </tr>\n",
       "    <tr>\n",
       "      <th>3</th>\n",
       "      <td>2017-01-04</td>\n",
       "      <td>23574.0</td>\n",
       "    </tr>\n",
       "    <tr>\n",
       "      <th>4</th>\n",
       "      <td>2017-01-05</td>\n",
       "      <td>22707.0</td>\n",
       "    </tr>\n",
       "  </tbody>\n",
       "</table>\n",
       "</div>"
      ],
      "text/plain": [
       "  RPT_DAY_DT_TY  htl_rms_act\n",
       "0    2017-01-01      18069.0\n",
       "1    2017-01-02      16156.0\n",
       "2    2017-01-03      21533.0\n",
       "3    2017-01-04      23574.0\n",
       "4    2017-01-05      22707.0"
      ]
     },
     "execution_count": 10,
     "metadata": {},
     "output_type": "execute_result"
    }
   ],
   "source": [
    "revenue_60.head()"
   ]
  },
  {
   "cell_type": "code",
   "execution_count": 11,
   "metadata": {},
   "outputs": [],
   "source": [
    "rng = list(range(0, 60)) + list(range(150, len(revenue_60)))\n",
    "\n",
    "revenue_60 = revenue_60.iloc[rng, :]"
   ]
  },
  {
   "cell_type": "code",
   "execution_count": 12,
   "metadata": {},
   "outputs": [],
   "source": [
    "for n in range(1,61):\n",
    "    col_name = 'day' + str(n)\n",
    "    revenue_60[col_name] = revenue_60['htl_rms_act'].shift(n)"
   ]
  },
  {
   "cell_type": "code",
   "execution_count": 13,
   "metadata": {},
   "outputs": [
    {
     "data": {
      "text/html": [
       "<div>\n",
       "<style scoped>\n",
       "    .dataframe tbody tr th:only-of-type {\n",
       "        vertical-align: middle;\n",
       "    }\n",
       "\n",
       "    .dataframe tbody tr th {\n",
       "        vertical-align: top;\n",
       "    }\n",
       "\n",
       "    .dataframe thead th {\n",
       "        text-align: right;\n",
       "    }\n",
       "</style>\n",
       "<table border=\"1\" class=\"dataframe\">\n",
       "  <thead>\n",
       "    <tr style=\"text-align: right;\">\n",
       "      <th></th>\n",
       "      <th>RPT_DAY_DT_TY</th>\n",
       "      <th>htl_rms_act</th>\n",
       "      <th>day1</th>\n",
       "      <th>day2</th>\n",
       "      <th>day3</th>\n",
       "      <th>day4</th>\n",
       "      <th>day5</th>\n",
       "      <th>day6</th>\n",
       "      <th>day7</th>\n",
       "      <th>day8</th>\n",
       "      <th>...</th>\n",
       "      <th>day51</th>\n",
       "      <th>day52</th>\n",
       "      <th>day53</th>\n",
       "      <th>day54</th>\n",
       "      <th>day55</th>\n",
       "      <th>day56</th>\n",
       "      <th>day57</th>\n",
       "      <th>day58</th>\n",
       "      <th>day59</th>\n",
       "      <th>day60</th>\n",
       "    </tr>\n",
       "  </thead>\n",
       "  <tbody>\n",
       "    <tr>\n",
       "      <th>0</th>\n",
       "      <td>2017-01-01</td>\n",
       "      <td>18069.0</td>\n",
       "      <td>NaN</td>\n",
       "      <td>NaN</td>\n",
       "      <td>NaN</td>\n",
       "      <td>NaN</td>\n",
       "      <td>NaN</td>\n",
       "      <td>NaN</td>\n",
       "      <td>NaN</td>\n",
       "      <td>NaN</td>\n",
       "      <td>...</td>\n",
       "      <td>NaN</td>\n",
       "      <td>NaN</td>\n",
       "      <td>NaN</td>\n",
       "      <td>NaN</td>\n",
       "      <td>NaN</td>\n",
       "      <td>NaN</td>\n",
       "      <td>NaN</td>\n",
       "      <td>NaN</td>\n",
       "      <td>NaN</td>\n",
       "      <td>NaN</td>\n",
       "    </tr>\n",
       "    <tr>\n",
       "      <th>1</th>\n",
       "      <td>2017-01-02</td>\n",
       "      <td>16156.0</td>\n",
       "      <td>18069.0</td>\n",
       "      <td>NaN</td>\n",
       "      <td>NaN</td>\n",
       "      <td>NaN</td>\n",
       "      <td>NaN</td>\n",
       "      <td>NaN</td>\n",
       "      <td>NaN</td>\n",
       "      <td>NaN</td>\n",
       "      <td>...</td>\n",
       "      <td>NaN</td>\n",
       "      <td>NaN</td>\n",
       "      <td>NaN</td>\n",
       "      <td>NaN</td>\n",
       "      <td>NaN</td>\n",
       "      <td>NaN</td>\n",
       "      <td>NaN</td>\n",
       "      <td>NaN</td>\n",
       "      <td>NaN</td>\n",
       "      <td>NaN</td>\n",
       "    </tr>\n",
       "    <tr>\n",
       "      <th>2</th>\n",
       "      <td>2017-01-03</td>\n",
       "      <td>21533.0</td>\n",
       "      <td>16156.0</td>\n",
       "      <td>18069.0</td>\n",
       "      <td>NaN</td>\n",
       "      <td>NaN</td>\n",
       "      <td>NaN</td>\n",
       "      <td>NaN</td>\n",
       "      <td>NaN</td>\n",
       "      <td>NaN</td>\n",
       "      <td>...</td>\n",
       "      <td>NaN</td>\n",
       "      <td>NaN</td>\n",
       "      <td>NaN</td>\n",
       "      <td>NaN</td>\n",
       "      <td>NaN</td>\n",
       "      <td>NaN</td>\n",
       "      <td>NaN</td>\n",
       "      <td>NaN</td>\n",
       "      <td>NaN</td>\n",
       "      <td>NaN</td>\n",
       "    </tr>\n",
       "    <tr>\n",
       "      <th>3</th>\n",
       "      <td>2017-01-04</td>\n",
       "      <td>23574.0</td>\n",
       "      <td>21533.0</td>\n",
       "      <td>16156.0</td>\n",
       "      <td>18069.0</td>\n",
       "      <td>NaN</td>\n",
       "      <td>NaN</td>\n",
       "      <td>NaN</td>\n",
       "      <td>NaN</td>\n",
       "      <td>NaN</td>\n",
       "      <td>...</td>\n",
       "      <td>NaN</td>\n",
       "      <td>NaN</td>\n",
       "      <td>NaN</td>\n",
       "      <td>NaN</td>\n",
       "      <td>NaN</td>\n",
       "      <td>NaN</td>\n",
       "      <td>NaN</td>\n",
       "      <td>NaN</td>\n",
       "      <td>NaN</td>\n",
       "      <td>NaN</td>\n",
       "    </tr>\n",
       "    <tr>\n",
       "      <th>4</th>\n",
       "      <td>2017-01-05</td>\n",
       "      <td>22707.0</td>\n",
       "      <td>23574.0</td>\n",
       "      <td>21533.0</td>\n",
       "      <td>16156.0</td>\n",
       "      <td>18069.0</td>\n",
       "      <td>NaN</td>\n",
       "      <td>NaN</td>\n",
       "      <td>NaN</td>\n",
       "      <td>NaN</td>\n",
       "      <td>...</td>\n",
       "      <td>NaN</td>\n",
       "      <td>NaN</td>\n",
       "      <td>NaN</td>\n",
       "      <td>NaN</td>\n",
       "      <td>NaN</td>\n",
       "      <td>NaN</td>\n",
       "      <td>NaN</td>\n",
       "      <td>NaN</td>\n",
       "      <td>NaN</td>\n",
       "      <td>NaN</td>\n",
       "    </tr>\n",
       "  </tbody>\n",
       "</table>\n",
       "<p>5 rows × 62 columns</p>\n",
       "</div>"
      ],
      "text/plain": [
       "  RPT_DAY_DT_TY  htl_rms_act     day1     day2     day3     day4  day5  day6  \\\n",
       "0    2017-01-01      18069.0      NaN      NaN      NaN      NaN   NaN   NaN   \n",
       "1    2017-01-02      16156.0  18069.0      NaN      NaN      NaN   NaN   NaN   \n",
       "2    2017-01-03      21533.0  16156.0  18069.0      NaN      NaN   NaN   NaN   \n",
       "3    2017-01-04      23574.0  21533.0  16156.0  18069.0      NaN   NaN   NaN   \n",
       "4    2017-01-05      22707.0  23574.0  21533.0  16156.0  18069.0   NaN   NaN   \n",
       "\n",
       "   day7  day8  ...  day51  day52  day53  day54  day55  day56  day57  day58  \\\n",
       "0   NaN   NaN  ...    NaN    NaN    NaN    NaN    NaN    NaN    NaN    NaN   \n",
       "1   NaN   NaN  ...    NaN    NaN    NaN    NaN    NaN    NaN    NaN    NaN   \n",
       "2   NaN   NaN  ...    NaN    NaN    NaN    NaN    NaN    NaN    NaN    NaN   \n",
       "3   NaN   NaN  ...    NaN    NaN    NaN    NaN    NaN    NaN    NaN    NaN   \n",
       "4   NaN   NaN  ...    NaN    NaN    NaN    NaN    NaN    NaN    NaN    NaN   \n",
       "\n",
       "   day59  day60  \n",
       "0    NaN    NaN  \n",
       "1    NaN    NaN  \n",
       "2    NaN    NaN  \n",
       "3    NaN    NaN  \n",
       "4    NaN    NaN  \n",
       "\n",
       "[5 rows x 62 columns]"
      ]
     },
     "execution_count": 13,
     "metadata": {},
     "output_type": "execute_result"
    }
   ],
   "source": [
    "revenue_60.head()"
   ]
  },
  {
   "cell_type": "code",
   "execution_count": 14,
   "metadata": {
    "scrolled": true
   },
   "outputs": [],
   "source": [
    "df = revenue_60.dropna()"
   ]
  },
  {
   "cell_type": "code",
   "execution_count": 15,
   "metadata": {},
   "outputs": [
    {
     "data": {
      "text/html": [
       "<div>\n",
       "<style scoped>\n",
       "    .dataframe tbody tr th:only-of-type {\n",
       "        vertical-align: middle;\n",
       "    }\n",
       "\n",
       "    .dataframe tbody tr th {\n",
       "        vertical-align: top;\n",
       "    }\n",
       "\n",
       "    .dataframe thead th {\n",
       "        text-align: right;\n",
       "    }\n",
       "</style>\n",
       "<table border=\"1\" class=\"dataframe\">\n",
       "  <thead>\n",
       "    <tr style=\"text-align: right;\">\n",
       "      <th></th>\n",
       "      <th>RPT_DAY_DT_TY</th>\n",
       "      <th>htl_rms_act</th>\n",
       "      <th>day1</th>\n",
       "      <th>day2</th>\n",
       "      <th>day3</th>\n",
       "      <th>day4</th>\n",
       "      <th>day5</th>\n",
       "      <th>day6</th>\n",
       "      <th>day7</th>\n",
       "      <th>day8</th>\n",
       "      <th>...</th>\n",
       "      <th>day51</th>\n",
       "      <th>day52</th>\n",
       "      <th>day53</th>\n",
       "      <th>day54</th>\n",
       "      <th>day55</th>\n",
       "      <th>day56</th>\n",
       "      <th>day57</th>\n",
       "      <th>day58</th>\n",
       "      <th>day59</th>\n",
       "      <th>day60</th>\n",
       "    </tr>\n",
       "  </thead>\n",
       "  <tbody>\n",
       "    <tr>\n",
       "      <th>150</th>\n",
       "      <td>2017-05-31</td>\n",
       "      <td>30323.0</td>\n",
       "      <td>34710.0</td>\n",
       "      <td>34482.0</td>\n",
       "      <td>30668.0</td>\n",
       "      <td>21466.0</td>\n",
       "      <td>33637.0</td>\n",
       "      <td>32948.0</td>\n",
       "      <td>32884.0</td>\n",
       "      <td>35905.0</td>\n",
       "      <td>...</td>\n",
       "      <td>32786.0</td>\n",
       "      <td>29142.0</td>\n",
       "      <td>19864.0</td>\n",
       "      <td>23750.0</td>\n",
       "      <td>23103.0</td>\n",
       "      <td>22707.0</td>\n",
       "      <td>23574.0</td>\n",
       "      <td>21533.0</td>\n",
       "      <td>16156.0</td>\n",
       "      <td>18069.0</td>\n",
       "    </tr>\n",
       "    <tr>\n",
       "      <th>151</th>\n",
       "      <td>2017-06-01</td>\n",
       "      <td>30318.0</td>\n",
       "      <td>30323.0</td>\n",
       "      <td>34710.0</td>\n",
       "      <td>34482.0</td>\n",
       "      <td>30668.0</td>\n",
       "      <td>21466.0</td>\n",
       "      <td>33637.0</td>\n",
       "      <td>32948.0</td>\n",
       "      <td>32884.0</td>\n",
       "      <td>...</td>\n",
       "      <td>32722.0</td>\n",
       "      <td>32786.0</td>\n",
       "      <td>29142.0</td>\n",
       "      <td>19864.0</td>\n",
       "      <td>23750.0</td>\n",
       "      <td>23103.0</td>\n",
       "      <td>22707.0</td>\n",
       "      <td>23574.0</td>\n",
       "      <td>21533.0</td>\n",
       "      <td>16156.0</td>\n",
       "    </tr>\n",
       "    <tr>\n",
       "      <th>152</th>\n",
       "      <td>2017-06-02</td>\n",
       "      <td>33259.0</td>\n",
       "      <td>30318.0</td>\n",
       "      <td>30323.0</td>\n",
       "      <td>34710.0</td>\n",
       "      <td>34482.0</td>\n",
       "      <td>30668.0</td>\n",
       "      <td>21466.0</td>\n",
       "      <td>33637.0</td>\n",
       "      <td>32948.0</td>\n",
       "      <td>...</td>\n",
       "      <td>27986.0</td>\n",
       "      <td>32722.0</td>\n",
       "      <td>32786.0</td>\n",
       "      <td>29142.0</td>\n",
       "      <td>19864.0</td>\n",
       "      <td>23750.0</td>\n",
       "      <td>23103.0</td>\n",
       "      <td>22707.0</td>\n",
       "      <td>23574.0</td>\n",
       "      <td>21533.0</td>\n",
       "    </tr>\n",
       "    <tr>\n",
       "      <th>153</th>\n",
       "      <td>2017-06-03</td>\n",
       "      <td>35800.0</td>\n",
       "      <td>33259.0</td>\n",
       "      <td>30318.0</td>\n",
       "      <td>30323.0</td>\n",
       "      <td>34710.0</td>\n",
       "      <td>34482.0</td>\n",
       "      <td>30668.0</td>\n",
       "      <td>21466.0</td>\n",
       "      <td>33637.0</td>\n",
       "      <td>...</td>\n",
       "      <td>26768.0</td>\n",
       "      <td>27986.0</td>\n",
       "      <td>32722.0</td>\n",
       "      <td>32786.0</td>\n",
       "      <td>29142.0</td>\n",
       "      <td>19864.0</td>\n",
       "      <td>23750.0</td>\n",
       "      <td>23103.0</td>\n",
       "      <td>22707.0</td>\n",
       "      <td>23574.0</td>\n",
       "    </tr>\n",
       "    <tr>\n",
       "      <th>154</th>\n",
       "      <td>2017-06-04</td>\n",
       "      <td>25536.0</td>\n",
       "      <td>35800.0</td>\n",
       "      <td>33259.0</td>\n",
       "      <td>30318.0</td>\n",
       "      <td>30323.0</td>\n",
       "      <td>34710.0</td>\n",
       "      <td>34482.0</td>\n",
       "      <td>30668.0</td>\n",
       "      <td>21466.0</td>\n",
       "      <td>...</td>\n",
       "      <td>28559.0</td>\n",
       "      <td>26768.0</td>\n",
       "      <td>27986.0</td>\n",
       "      <td>32722.0</td>\n",
       "      <td>32786.0</td>\n",
       "      <td>29142.0</td>\n",
       "      <td>19864.0</td>\n",
       "      <td>23750.0</td>\n",
       "      <td>23103.0</td>\n",
       "      <td>22707.0</td>\n",
       "    </tr>\n",
       "  </tbody>\n",
       "</table>\n",
       "<p>5 rows × 62 columns</p>\n",
       "</div>"
      ],
      "text/plain": [
       "    RPT_DAY_DT_TY  htl_rms_act     day1     day2     day3     day4     day5  \\\n",
       "150    2017-05-31      30323.0  34710.0  34482.0  30668.0  21466.0  33637.0   \n",
       "151    2017-06-01      30318.0  30323.0  34710.0  34482.0  30668.0  21466.0   \n",
       "152    2017-06-02      33259.0  30318.0  30323.0  34710.0  34482.0  30668.0   \n",
       "153    2017-06-03      35800.0  33259.0  30318.0  30323.0  34710.0  34482.0   \n",
       "154    2017-06-04      25536.0  35800.0  33259.0  30318.0  30323.0  34710.0   \n",
       "\n",
       "        day6     day7     day8  ...    day51    day52    day53    day54  \\\n",
       "150  32948.0  32884.0  35905.0  ...  32786.0  29142.0  19864.0  23750.0   \n",
       "151  33637.0  32948.0  32884.0  ...  32722.0  32786.0  29142.0  19864.0   \n",
       "152  21466.0  33637.0  32948.0  ...  27986.0  32722.0  32786.0  29142.0   \n",
       "153  30668.0  21466.0  33637.0  ...  26768.0  27986.0  32722.0  32786.0   \n",
       "154  34482.0  30668.0  21466.0  ...  28559.0  26768.0  27986.0  32722.0   \n",
       "\n",
       "       day55    day56    day57    day58    day59    day60  \n",
       "150  23103.0  22707.0  23574.0  21533.0  16156.0  18069.0  \n",
       "151  23750.0  23103.0  22707.0  23574.0  21533.0  16156.0  \n",
       "152  19864.0  23750.0  23103.0  22707.0  23574.0  21533.0  \n",
       "153  29142.0  19864.0  23750.0  23103.0  22707.0  23574.0  \n",
       "154  32786.0  29142.0  19864.0  23750.0  23103.0  22707.0  \n",
       "\n",
       "[5 rows x 62 columns]"
      ]
     },
     "execution_count": 15,
     "metadata": {},
     "output_type": "execute_result"
    }
   ],
   "source": [
    "df.head()"
   ]
  },
  {
   "cell_type": "code",
   "execution_count": 16,
   "metadata": {},
   "outputs": [],
   "source": [
    "X_train = df[df['RPT_DAY_DT_TY'] < '2018-09-01'].drop(columns=['htl_rms_act', 'RPT_DAY_DT_TY'])\n",
    "y_train = df[df['RPT_DAY_DT_TY'] < '2018-09-01']['htl_rms_act']\n",
    "X_test = df[df['RPT_DAY_DT_TY'] >= '2018-09-01'].drop(columns=['htl_rms_act', 'RPT_DAY_DT_TY'])\n",
    "y_test = df[df['RPT_DAY_DT_TY'] >= '2018-09-01']['htl_rms_act']"
   ]
  },
  {
   "cell_type": "markdown",
   "metadata": {},
   "source": [
    "# Regression Tree"
   ]
  },
  {
   "cell_type": "code",
   "execution_count": 17,
   "metadata": {},
   "outputs": [
    {
     "data": {
      "text/plain": [
       "DecisionTreeClassifier(class_weight=None, criterion='gini', max_depth=None,\n",
       "            max_features=None, max_leaf_nodes=None,\n",
       "            min_impurity_decrease=0.0, min_impurity_split=None,\n",
       "            min_samples_leaf=1, min_samples_split=2,\n",
       "            min_weight_fraction_leaf=0.0, presort=False, random_state=0,\n",
       "            splitter='best')"
      ]
     },
     "execution_count": 17,
     "metadata": {},
     "output_type": "execute_result"
    }
   ],
   "source": [
    "from sklearn.tree import DecisionTreeClassifier\n",
    "\n",
    "clf = DecisionTreeClassifier(random_state=0)\n",
    "clf.fit(X_train, y_train)"
   ]
  },
  {
   "cell_type": "code",
   "execution_count": 18,
   "metadata": {
    "scrolled": true
   },
   "outputs": [
    {
     "name": "stdout",
     "output_type": "stream",
     "text": [
      "0.46041042767846246\n",
      "{'max_depth': 3}\n",
      "DecisionTreeRegressor(criterion='mse', max_depth=3, max_features=None,\n",
      "           max_leaf_nodes=None, min_impurity_decrease=0.0,\n",
      "           min_impurity_split=None, min_samples_leaf=1,\n",
      "           min_samples_split=2, min_weight_fraction_leaf=0.0,\n",
      "           presort=False, random_state=41, splitter='best')\n"
     ]
    }
   ],
   "source": [
    "from sklearn.model_selection import GridSearchCV\n",
    "from sklearn.tree import DecisionTreeRegressor\n",
    "\n",
    "gs_dt = GridSearchCV(estimator=DecisionTreeRegressor(random_state=41),\n",
    "                  param_grid=[{'max_depth': [1, 2, 3, 4, 5, 6, 7, None],}],\n",
    "                  cv=5,\n",
    "                  n_jobs=-1)\n",
    "\n",
    "gs_dt.fit(X_train, y_train)\n",
    "\n",
    "print(gs_dt.best_score_)\n",
    "print(gs_dt.best_params_)\n",
    "print(gs_dt.best_estimator_)"
   ]
  },
  {
   "cell_type": "code",
   "execution_count": 19,
   "metadata": {},
   "outputs": [],
   "source": [
    "y_pred = gs_dt.predict(X_test)"
   ]
  },
  {
   "cell_type": "code",
   "execution_count": 20,
   "metadata": {},
   "outputs": [
    {
     "data": {
      "text/plain": [
       "4599.186714235513"
      ]
     },
     "execution_count": 20,
     "metadata": {},
     "output_type": "execute_result"
    }
   ],
   "source": [
    "from sklearn.metrics import mean_squared_error\n",
    "from math import sqrt\n",
    "\n",
    "rms = sqrt(mean_squared_error(y_test, y_pred))\n",
    "rms"
   ]
  },
  {
   "cell_type": "code",
   "execution_count": 21,
   "metadata": {},
   "outputs": [],
   "source": [
    "def mean_absolute_percentage_error(y_true, y_pred):\n",
    "    return np.mean(np.abs((y_true - y_pred) / y_true))"
   ]
  },
  {
   "cell_type": "code",
   "execution_count": 22,
   "metadata": {},
   "outputs": [
    {
     "data": {
      "text/plain": [
       "0.12133152320997542"
      ]
     },
     "execution_count": 22,
     "metadata": {},
     "output_type": "execute_result"
    }
   ],
   "source": [
    "mean_absolute_percentage_error(np.array(y_test), y_pred)"
   ]
  },
  {
   "cell_type": "markdown",
   "metadata": {},
   "source": [
    "# Linear Regression"
   ]
  },
  {
   "cell_type": "code",
   "execution_count": 23,
   "metadata": {
    "scrolled": true
   },
   "outputs": [
    {
     "data": {
      "text/plain": [
       "0.7830248325007505"
      ]
     },
     "execution_count": 23,
     "metadata": {},
     "output_type": "execute_result"
    }
   ],
   "source": [
    "from sklearn.linear_model import LinearRegression\n",
    "reg = LinearRegression()\n",
    "\n",
    "reg.fit(X_train, y_train)\n",
    "reg.score(X_train, y_train)"
   ]
  },
  {
   "cell_type": "code",
   "execution_count": 24,
   "metadata": {},
   "outputs": [],
   "source": [
    "y_pred_linear = reg.predict(np.array(X_test))"
   ]
  },
  {
   "cell_type": "code",
   "execution_count": 25,
   "metadata": {},
   "outputs": [
    {
     "data": {
      "text/plain": [
       "0.07046831799666027"
      ]
     },
     "execution_count": 25,
     "metadata": {},
     "output_type": "execute_result"
    }
   ],
   "source": [
    "mean_absolute_percentage_error(y_test, y_pred_linear)"
   ]
  },
  {
   "cell_type": "markdown",
   "metadata": {},
   "source": [
    "# KNN"
   ]
  },
  {
   "cell_type": "code",
   "execution_count": 26,
   "metadata": {},
   "outputs": [
    {
     "data": {
      "text/plain": [
       "GridSearchCV(cv=5, error_score='raise',\n",
       "       estimator=KNeighborsRegressor(algorithm='auto', leaf_size=30, metric='minkowski',\n",
       "          metric_params=None, n_jobs=1, n_neighbors=5, p=2,\n",
       "          weights='uniform'),\n",
       "       fit_params=None, iid=True, n_jobs=-1,\n",
       "       param_grid=[{'n_neighbors': [1, 3, 5, 7, 9]}],\n",
       "       pre_dispatch='2*n_jobs', refit=True, return_train_score='warn',\n",
       "       scoring=None, verbose=0)"
      ]
     },
     "execution_count": 26,
     "metadata": {},
     "output_type": "execute_result"
    }
   ],
   "source": [
    "from sklearn.neighbors import KNeighborsRegressor\n",
    "\n",
    "\n",
    "knn = GridSearchCV(estimator=KNeighborsRegressor(),\n",
    "                  param_grid=[{'n_neighbors': [1, 3, 5, 7, 9],}],\n",
    "                  cv=5,\n",
    "                  n_jobs=-1)\n",
    "\n",
    "knn.fit(X_train, y_train)"
   ]
  },
  {
   "cell_type": "code",
   "execution_count": 27,
   "metadata": {},
   "outputs": [],
   "source": [
    "y_pred_knn = knn.predict(X_test)"
   ]
  },
  {
   "cell_type": "code",
   "execution_count": 28,
   "metadata": {},
   "outputs": [
    {
     "data": {
      "text/plain": [
       "0.10511321610666491"
      ]
     },
     "execution_count": 28,
     "metadata": {},
     "output_type": "execute_result"
    }
   ],
   "source": [
    "mean_absolute_percentage_error(y_test, y_pred_knn)"
   ]
  },
  {
   "cell_type": "markdown",
   "metadata": {},
   "source": [
    "# RandomForest"
   ]
  },
  {
   "cell_type": "code",
   "execution_count": 29,
   "metadata": {},
   "outputs": [
    {
     "data": {
      "text/plain": [
       "GridSearchCV(cv=5, error_score='raise',\n",
       "       estimator=RandomForestRegressor(bootstrap=True, criterion='mse', max_depth=None,\n",
       "           max_features='auto', max_leaf_nodes=None,\n",
       "           min_impurity_decrease=0.0, min_impurity_split=None,\n",
       "           min_samples_leaf=1, min_samples_split=2,\n",
       "           min_weight_fraction_leaf=0.0, n_estimators=10, n_jobs=1,\n",
       "           oob_score=False, random_state=None, verbose=0, warm_start=False),\n",
       "       fit_params=None, iid=True, n_jobs=-1,\n",
       "       param_grid=[{'n_estimators': [10, 20, 30, 40, 50, 60, 70, 80], 'criterion': ['mse', 'mae'], 'max_depth': [5, 7, 9, 11]}],\n",
       "       pre_dispatch='2*n_jobs', refit=True, return_train_score='warn',\n",
       "       scoring=None, verbose=0)"
      ]
     },
     "execution_count": 29,
     "metadata": {},
     "output_type": "execute_result"
    }
   ],
   "source": [
    "from sklearn.ensemble import RandomForestRegressor\n",
    "\n",
    "rf = GridSearchCV(estimator = RandomForestRegressor(),\n",
    "                 param_grid=[{'n_estimators':[10, 20, 30, 40, 50, 60, 70, 80],\n",
    "                             'criterion': ['mse', 'mae'],\n",
    "                             'max_depth': [5, 7, 9, 11], \n",
    "                             }],\n",
    "                             cv=5,\n",
    "                             n_jobs=-1)\n",
    "\n",
    "rf.fit(X_train, y_train)"
   ]
  },
  {
   "cell_type": "code",
   "execution_count": 33,
   "metadata": {},
   "outputs": [
    {
     "data": {
      "text/plain": [
       "0.07526288062742832"
      ]
     },
     "execution_count": 33,
     "metadata": {},
     "output_type": "execute_result"
    }
   ],
   "source": [
    "y_pred_rf = rf.predict(X_test)\n",
    "mean_absolute_percentage_error(y_test, y_pred_rf)"
   ]
  },
  {
   "cell_type": "markdown",
   "metadata": {},
   "source": [
    "# Ridge"
   ]
  },
  {
   "cell_type": "code",
   "execution_count": 35,
   "metadata": {},
   "outputs": [
    {
     "data": {
      "text/plain": [
       "GridSearchCV(cv=5, error_score='raise',\n",
       "       estimator=Ridge(alpha=1.0, copy_X=True, fit_intercept=True, max_iter=None,\n",
       "   normalize=False, random_state=None, solver='auto', tol=0.001),\n",
       "       fit_params=None, iid=True, n_jobs=-1,\n",
       "       param_grid=[{'alpha': [0.01, 0.1, 1]}], pre_dispatch='2*n_jobs',\n",
       "       refit=True, return_train_score='warn', scoring=None, verbose=0)"
      ]
     },
     "execution_count": 35,
     "metadata": {},
     "output_type": "execute_result"
    }
   ],
   "source": [
    "from sklearn.linear_model import Ridge\n",
    "\n",
    "ridge = GridSearchCV(estimator = Ridge(),\n",
    "                    param_grid=[{'alpha': [0.01, 0.1, 1]}],\n",
    "                    cv=5,\n",
    "                    n_jobs=-1)\n",
    "\n",
    "ridge.fit(X_train, y_train)"
   ]
  },
  {
   "cell_type": "code",
   "execution_count": 36,
   "metadata": {},
   "outputs": [
    {
     "data": {
      "text/plain": [
       "0.07046831799667926"
      ]
     },
     "execution_count": 36,
     "metadata": {},
     "output_type": "execute_result"
    }
   ],
   "source": [
    "y_pred_ridge = ridge.predict(X_test)\n",
    "mean_absolute_percentage_error(y_test, y_pred_ridge)"
   ]
  },
  {
   "cell_type": "markdown",
   "metadata": {},
   "source": [
    "# Lasso"
   ]
  },
  {
   "cell_type": "code",
   "execution_count": 38,
   "metadata": {},
   "outputs": [
    {
     "data": {
      "text/plain": [
       "GridSearchCV(cv=5, error_score='raise',\n",
       "       estimator=Lasso(alpha=1.0, copy_X=True, fit_intercept=True, max_iter=1000,\n",
       "   normalize=False, positive=False, precompute=False, random_state=None,\n",
       "   selection='cyclic', tol=0.0001, warm_start=False),\n",
       "       fit_params=None, iid=True, n_jobs=-1,\n",
       "       param_grid={'alpha': [0.001, 0.01, 0.1, 1]},\n",
       "       pre_dispatch='2*n_jobs', refit=True, return_train_score='warn',\n",
       "       scoring=None, verbose=0)"
      ]
     },
     "execution_count": 38,
     "metadata": {},
     "output_type": "execute_result"
    }
   ],
   "source": [
    "from sklearn.linear_model import Lasso\n",
    "\n",
    "lasso = GridSearchCV(estimator=Lasso(),\n",
    "                    param_grid={'alpha': [0.001, 0.01, 0.1, 1]},\n",
    "                    cv=5,\n",
    "                    n_jobs=-1)\n",
    "\n",
    "lasso.fit(X_train, y_train)"
   ]
  },
  {
   "cell_type": "code",
   "execution_count": 39,
   "metadata": {},
   "outputs": [
    {
     "data": {
      "text/plain": [
       "0.07046831360422548"
      ]
     },
     "execution_count": 39,
     "metadata": {},
     "output_type": "execute_result"
    }
   ],
   "source": [
    "y_pred_lasso = lasso.predict(X_test)\n",
    "mean_absolute_percentage_error(y_test, y_pred_lasso)"
   ]
  },
  {
   "cell_type": "markdown",
   "metadata": {},
   "source": [
    "# Evaluations"
   ]
  },
  {
   "cell_type": "code",
   "execution_count": 30,
   "metadata": {},
   "outputs": [
    {
     "data": {
      "text/plain": [
       "(array([ 36, 118, 201, 283, 366]),\n",
       " array([[1.        , 1.        , 1.        , 1.        , 1.        ],\n",
       "        [0.85805132, 0.80121276, 0.61797531, 0.61797531, 0.61797531],\n",
       "        [0.81614845, 0.78413988, 0.7233542 , 0.72419702, 0.72419702],\n",
       "        [0.81022808, 0.77752023, 0.72294125, 0.74481235, 0.75747858],\n",
       "        [0.82743747, 0.79487052, 0.75180378, 0.77865511, 0.77139917]]),\n",
       " array([[-8.45649126, -1.1470463 , -1.81295628, -1.93448063, -2.27734323],\n",
       "        [ 0.12654812,  0.63663459,  0.4739755 ,  0.7593865 ,  0.65087373],\n",
       "        [ 0.40110874,  0.65618676,  0.61893299,  0.76373533,  0.72607821],\n",
       "        [ 0.38606495,  0.68051136,  0.61533367,  0.76417659,  0.73357024],\n",
       "        [ 0.37114636,  0.71338001,  0.64054541,  0.76742975,  0.73672474]]))"
      ]
     },
     "execution_count": 30,
     "metadata": {},
     "output_type": "execute_result"
    }
   ],
   "source": [
    "from sklearn.model_selection import learning_curve\n",
    "\n",
    "learning_curve(reg, X_train, y_train, cv=5, scoring='explained_variance', n_jobs=-1)"
   ]
  },
  {
   "cell_type": "code",
   "execution_count": 45,
   "metadata": {},
   "outputs": [],
   "source": [
    "import matplotlib.pyplot as plt\n",
    "\n",
    "def plot_learning_curve(estimator, title, X, y, ylim=None, cv=None,\n",
    "                        n_jobs=None, train_sizes=np.linspace(.1, 1.0, 5)):\n",
    "\n",
    "    plt.figure()\n",
    "    plt.title(title)\n",
    "    if ylim is not None:\n",
    "        plt.ylim(*ylim)\n",
    "    plt.xlabel(\"Training examples\")\n",
    "    plt.ylabel(\"Score\")\n",
    "    train_sizes, train_scores, test_scores = learning_curve(\n",
    "        estimator, X, y, cv=cv, n_jobs=n_jobs, train_sizes=train_sizes, scoring='neg_mean_absolute_error')\n",
    "    train_scores_mean = np.mean(train_scores, axis=1)\n",
    "    train_scores_std = np.std(train_scores, axis=1)\n",
    "    test_scores_mean = np.mean(test_scores, axis=1)\n",
    "    test_scores_std = np.std(test_scores, axis=1)\n",
    "    plt.grid()\n",
    "\n",
    "    plt.fill_between(train_sizes, train_scores_mean - train_scores_std,\n",
    "                     train_scores_mean + train_scores_std, alpha=0.1,\n",
    "                     color=\"r\")\n",
    "    plt.fill_between(train_sizes, test_scores_mean - test_scores_std,\n",
    "                     test_scores_mean + test_scores_std, alpha=0.1, color=\"g\")\n",
    "    plt.plot(train_sizes, train_scores_mean, 'o-', color=\"r\",\n",
    "             label=\"Training score\")\n",
    "    plt.plot(train_sizes, test_scores_mean, 'o-', color=\"g\",\n",
    "             label=\"Cross-validation score\")\n",
    "\n",
    "    plt.legend(loc=\"best\")\n",
    "    return plt"
   ]
  },
  {
   "cell_type": "code",
   "execution_count": 52,
   "metadata": {},
   "outputs": [
    {
     "data": {
      "text/plain": [
       "<module 'matplotlib.pyplot' from '/Users/fenghaogao/anaconda3/lib/python3.6/site-packages/matplotlib/pyplot.py'>"
      ]
     },
     "execution_count": 52,
     "metadata": {},
     "output_type": "execute_result"
    },
    {
     "data": {
      "image/png": "[encoded data removed]",
      "text/plain": [
       "<matplotlib.figure.Figure at 0x1135eaba8>"
      ]
     },
     "metadata": {},
     "output_type": "display_data"
    }
   ],
   "source": [
    "from sklearn.model_selection import ShuffleSplit\n",
    "\n",
    "title = \"Learning Curves (Linear Regression)\"\n",
    "\n",
    "plot_learning_curve(LinearRegression(), title, X_train, y_train, cv=2, n_jobs=-1)"
   ]
  }
 ],
 "metadata": {
  "kernelspec": {
   "display_name": "Python 3",
   "language": "python",
   "name": "python3"
  },
  "language_info": {
   "codemirror_mode": {
    "name": "ipython",
    "version": 3
   },
   "file_extension": ".py",
   "mimetype": "text/x-python",
   "name": "python",
   "nbconvert_exporter": "python",
   "pygments_lexer": "ipython3",
   "version": "3.6.4"
  }
 },
 "nbformat": 4,
 "nbformat_minor": 2
}
