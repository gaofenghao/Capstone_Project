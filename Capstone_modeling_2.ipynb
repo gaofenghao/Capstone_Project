{
 "cells": [
  {
   "cell_type": "code",
   "execution_count": 1,
   "metadata": {},
   "outputs": [],
   "source": [
    "import pandas as pd\n",
    "import numpy as np"
   ]
  },
  {
   "cell_type": "code",
   "execution_count": 2,
   "metadata": {},
   "outputs": [],
   "source": [
    "revenue = pd.read_excel('/Volumes/External/OneDrive - Emory University/MSBA/Spring/ISOM 689 - Capstone/data/DLY_HTL_COMPSET_PERF_MASKED.xlsx')\n",
    "competitors = pd.read_excel('/Volumes/External/OneDrive - Emory University/MSBA/Spring/ISOM 689 - Capstone/data/RATE_SHOP_COMPET_HTL_masked.xlsx')"
   ]
  },
  {
   "cell_type": "code",
   "execution_count": 3,
   "metadata": {},
   "outputs": [
    {
     "data": {
      "text/html": [
       "<div>\n",
       "<style scoped>\n",
       "    .dataframe tbody tr th:only-of-type {\n",
       "        vertical-align: middle;\n",
       "    }\n",
       "\n",
       "    .dataframe tbody tr th {\n",
       "        vertical-align: top;\n",
       "    }\n",
       "\n",
       "    .dataframe thead th {\n",
       "        text-align: right;\n",
       "    }\n",
       "</style>\n",
       "<table border=\"1\" class=\"dataframe\">\n",
       "  <thead>\n",
       "    <tr style=\"text-align: right;\">\n",
       "      <th></th>\n",
       "      <th>FAC_ID</th>\n",
       "      <th>RPT_DAY_DT_TY</th>\n",
       "      <th>htl_rms_avl</th>\n",
       "      <th>htl_rms_act</th>\n",
       "      <th>htl_rev_const_usd_act</th>\n",
       "      <th>comp_rms_avl</th>\n",
       "      <th>comp_rms_act</th>\n",
       "      <th>comp_rev_const_usd_act</th>\n",
       "      <th>htl_occ</th>\n",
       "      <th>htl_adr</th>\n",
       "      <th>htl_revpar</th>\n",
       "      <th>comp_occ</th>\n",
       "      <th>comp_adr</th>\n",
       "      <th>comp_revpar</th>\n",
       "      <th>mpi</th>\n",
       "      <th>ari</th>\n",
       "      <th>rgi</th>\n",
       "    </tr>\n",
       "  </thead>\n",
       "  <tbody>\n",
       "    <tr>\n",
       "      <th>0</th>\n",
       "      <td>3</td>\n",
       "      <td>2017-01-01</td>\n",
       "      <td>122.0</td>\n",
       "      <td>23.0</td>\n",
       "      <td>2295.0</td>\n",
       "      <td>122.0</td>\n",
       "      <td>18.633441</td>\n",
       "      <td>1673.086817</td>\n",
       "      <td>0.188525</td>\n",
       "      <td>99.782609</td>\n",
       "      <td>18.811475</td>\n",
       "      <td>0.152733</td>\n",
       "      <td>89.789471</td>\n",
       "      <td>13.713826</td>\n",
       "      <td>1.234341</td>\n",
       "      <td>1.111295</td>\n",
       "      <td>1.371716</td>\n",
       "    </tr>\n",
       "    <tr>\n",
       "      <th>1</th>\n",
       "      <td>3</td>\n",
       "      <td>2017-01-02</td>\n",
       "      <td>122.0</td>\n",
       "      <td>23.0</td>\n",
       "      <td>2378.0</td>\n",
       "      <td>122.0</td>\n",
       "      <td>19.418006</td>\n",
       "      <td>1888.254019</td>\n",
       "      <td>0.188525</td>\n",
       "      <td>103.391304</td>\n",
       "      <td>19.491803</td>\n",
       "      <td>0.159164</td>\n",
       "      <td>97.242426</td>\n",
       "      <td>15.477492</td>\n",
       "      <td>1.184468</td>\n",
       "      <td>1.063232</td>\n",
       "      <td>1.259364</td>\n",
       "    </tr>\n",
       "    <tr>\n",
       "      <th>2</th>\n",
       "      <td>3</td>\n",
       "      <td>2017-01-03</td>\n",
       "      <td>122.0</td>\n",
       "      <td>30.0</td>\n",
       "      <td>3104.0</td>\n",
       "      <td>122.0</td>\n",
       "      <td>41.974277</td>\n",
       "      <td>4078.173633</td>\n",
       "      <td>0.245902</td>\n",
       "      <td>103.466667</td>\n",
       "      <td>25.442623</td>\n",
       "      <td>0.344051</td>\n",
       "      <td>97.158877</td>\n",
       "      <td>33.427653</td>\n",
       "      <td>0.714724</td>\n",
       "      <td>1.064922</td>\n",
       "      <td>0.761125</td>\n",
       "    </tr>\n",
       "    <tr>\n",
       "      <th>3</th>\n",
       "      <td>3</td>\n",
       "      <td>2017-01-04</td>\n",
       "      <td>122.0</td>\n",
       "      <td>46.0</td>\n",
       "      <td>4664.0</td>\n",
       "      <td>122.0</td>\n",
       "      <td>54.919614</td>\n",
       "      <td>5540.408360</td>\n",
       "      <td>0.377049</td>\n",
       "      <td>101.391304</td>\n",
       "      <td>38.229508</td>\n",
       "      <td>0.450161</td>\n",
       "      <td>100.882143</td>\n",
       "      <td>45.413183</td>\n",
       "      <td>0.837587</td>\n",
       "      <td>1.005047</td>\n",
       "      <td>0.841815</td>\n",
       "    </tr>\n",
       "    <tr>\n",
       "      <th>4</th>\n",
       "      <td>3</td>\n",
       "      <td>2017-01-05</td>\n",
       "      <td>122.0</td>\n",
       "      <td>45.0</td>\n",
       "      <td>4676.0</td>\n",
       "      <td>122.0</td>\n",
       "      <td>46.681672</td>\n",
       "      <td>4449.077170</td>\n",
       "      <td>0.368852</td>\n",
       "      <td>103.911111</td>\n",
       "      <td>38.327869</td>\n",
       "      <td>0.382637</td>\n",
       "      <td>95.306723</td>\n",
       "      <td>36.467846</td>\n",
       "      <td>0.963975</td>\n",
       "      <td>1.090281</td>\n",
       "      <td>1.051004</td>\n",
       "    </tr>\n",
       "  </tbody>\n",
       "</table>\n",
       "</div>"
      ],
      "text/plain": [
       "   FAC_ID RPT_DAY_DT_TY  htl_rms_avl  htl_rms_act  htl_rev_const_usd_act  \\\n",
       "0       3    2017-01-01        122.0         23.0                 2295.0   \n",
       "1       3    2017-01-02        122.0         23.0                 2378.0   \n",
       "2       3    2017-01-03        122.0         30.0                 3104.0   \n",
       "3       3    2017-01-04        122.0         46.0                 4664.0   \n",
       "4       3    2017-01-05        122.0         45.0                 4676.0   \n",
       "\n",
       "   comp_rms_avl  comp_rms_act  comp_rev_const_usd_act   htl_occ     htl_adr  \\\n",
       "0         122.0     18.633441             1673.086817  0.188525   99.782609   \n",
       "1         122.0     19.418006             1888.254019  0.188525  103.391304   \n",
       "2         122.0     41.974277             4078.173633  0.245902  103.466667   \n",
       "3         122.0     54.919614             5540.408360  0.377049  101.391304   \n",
       "4         122.0     46.681672             4449.077170  0.368852  103.911111   \n",
       "\n",
       "   htl_revpar  comp_occ    comp_adr  comp_revpar       mpi       ari       rgi  \n",
       "0   18.811475  0.152733   89.789471    13.713826  1.234341  1.111295  1.371716  \n",
       "1   19.491803  0.159164   97.242426    15.477492  1.184468  1.063232  1.259364  \n",
       "2   25.442623  0.344051   97.158877    33.427653  0.714724  1.064922  0.761125  \n",
       "3   38.229508  0.450161  100.882143    45.413183  0.837587  1.005047  0.841815  \n",
       "4   38.327869  0.382637   95.306723    36.467846  0.963975  1.090281  1.051004  "
      ]
     },
     "execution_count": 3,
     "metadata": {},
     "output_type": "execute_result"
    }
   ],
   "source": [
    "revenue.head()"
   ]
  },
  {
   "cell_type": "code",
   "execution_count": 4,
   "metadata": {},
   "outputs": [],
   "source": [
    "revenue_t = revenue.drop(columns=['htl_rms_act', 'comp_rms_act', 'comp_rev_const_usd_act', 'htl_occ', 'htl_adr', 'htl_revpar', 'comp_occ', 'comp_adr', 'comp_revpar', 'comp_revpar'])"
   ]
  },
  {
   "cell_type": "code",
   "execution_count": 5,
   "metadata": {},
   "outputs": [],
   "source": [
    "revenue['week'] = revenue['RPT_DAY_DT_TY'].dt.week\n",
    "revenue['weekday'] = revenue['RPT_DAY_DT_TY'].dt.weekday\n",
    "revenue['weekday'] = revenue['weekday'].apply(lambda x: 1 if x>=5 else 0)"
   ]
  },
  {
   "cell_type": "code",
   "execution_count": 6,
   "metadata": {},
   "outputs": [],
   "source": [
    "revenue_t = revenue.groupby(['RPT_DAY_DT_TY']).agg({\n",
    "    'htl_rms_avl':'sum',\n",
    "    'htl_rms_act':'sum',\n",
    "    'htl_rev_const_usd_act':'sum',\n",
    "    'comp_rms_avl': 'sum',\n",
    "    'comp_rms_act':'sum',\n",
    "    'htl_occ':'mean',\n",
    "    'htl_adr':'mean',\n",
    "    'htl_revpar':'mean',\n",
    "    'comp_occ':'mean',\n",
    "    'comp_adr':'mean',\n",
    "    'comp_revpar':'mean',\n",
    "    'mpi':'mean',\n",
    "    'ari':'mean',\n",
    "    'rgi':'mean'\n",
    "}).reset_index()"
   ]
  },
  {
   "cell_type": "code",
   "execution_count": 7,
   "metadata": {},
   "outputs": [
    {
     "data": {
      "text/html": [
       "<div>\n",
       "<style scoped>\n",
       "    .dataframe tbody tr th:only-of-type {\n",
       "        vertical-align: middle;\n",
       "    }\n",
       "\n",
       "    .dataframe tbody tr th {\n",
       "        vertical-align: top;\n",
       "    }\n",
       "\n",
       "    .dataframe thead th {\n",
       "        text-align: right;\n",
       "    }\n",
       "</style>\n",
       "<table border=\"1\" class=\"dataframe\">\n",
       "  <thead>\n",
       "    <tr style=\"text-align: right;\">\n",
       "      <th></th>\n",
       "      <th>RPT_DAY_DT_TY</th>\n",
       "      <th>htl_rms_avl</th>\n",
       "      <th>htl_rms_act</th>\n",
       "      <th>htl_rev_const_usd_act</th>\n",
       "      <th>comp_rms_avl</th>\n",
       "      <th>comp_rms_act</th>\n",
       "      <th>htl_occ</th>\n",
       "      <th>htl_adr</th>\n",
       "      <th>htl_revpar</th>\n",
       "      <th>comp_occ</th>\n",
       "      <th>comp_adr</th>\n",
       "      <th>comp_revpar</th>\n",
       "      <th>mpi</th>\n",
       "      <th>ari</th>\n",
       "      <th>rgi</th>\n",
       "    </tr>\n",
       "  </thead>\n",
       "  <tbody>\n",
       "    <tr>\n",
       "      <th>0</th>\n",
       "      <td>2017-01-01</td>\n",
       "      <td>44584.0</td>\n",
       "      <td>18069.0</td>\n",
       "      <td>1919278.0</td>\n",
       "      <td>44584.0</td>\n",
       "      <td>18402.412654</td>\n",
       "      <td>0.388624</td>\n",
       "      <td>98.868890</td>\n",
       "      <td>40.253241</td>\n",
       "      <td>0.397860</td>\n",
       "      <td>91.176314</td>\n",
       "      <td>38.429649</td>\n",
       "      <td>1.016219</td>\n",
       "      <td>1.098248</td>\n",
       "      <td>1.101329</td>\n",
       "    </tr>\n",
       "    <tr>\n",
       "      <th>1</th>\n",
       "      <td>2017-01-02</td>\n",
       "      <td>44506.0</td>\n",
       "      <td>16156.0</td>\n",
       "      <td>1644727.0</td>\n",
       "      <td>44506.0</td>\n",
       "      <td>16145.604331</td>\n",
       "      <td>0.357318</td>\n",
       "      <td>98.323008</td>\n",
       "      <td>35.973401</td>\n",
       "      <td>0.353072</td>\n",
       "      <td>90.219076</td>\n",
       "      <td>32.891860</td>\n",
       "      <td>1.054211</td>\n",
       "      <td>1.104781</td>\n",
       "      <td>1.153845</td>\n",
       "    </tr>\n",
       "    <tr>\n",
       "      <th>2</th>\n",
       "      <td>2017-01-03</td>\n",
       "      <td>44506.0</td>\n",
       "      <td>21533.0</td>\n",
       "      <td>2190306.0</td>\n",
       "      <td>44506.0</td>\n",
       "      <td>20907.894596</td>\n",
       "      <td>0.485761</td>\n",
       "      <td>99.346875</td>\n",
       "      <td>48.983506</td>\n",
       "      <td>0.463943</td>\n",
       "      <td>93.271486</td>\n",
       "      <td>43.972421</td>\n",
       "      <td>1.070747</td>\n",
       "      <td>1.075261</td>\n",
       "      <td>1.153374</td>\n",
       "    </tr>\n",
       "    <tr>\n",
       "      <th>3</th>\n",
       "      <td>2017-01-04</td>\n",
       "      <td>44506.0</td>\n",
       "      <td>23574.0</td>\n",
       "      <td>2411719.0</td>\n",
       "      <td>44506.0</td>\n",
       "      <td>23034.766894</td>\n",
       "      <td>0.531713</td>\n",
       "      <td>99.995536</td>\n",
       "      <td>53.912270</td>\n",
       "      <td>0.511141</td>\n",
       "      <td>93.920616</td>\n",
       "      <td>48.676046</td>\n",
       "      <td>1.061534</td>\n",
       "      <td>1.074512</td>\n",
       "      <td>1.146913</td>\n",
       "    </tr>\n",
       "    <tr>\n",
       "      <th>4</th>\n",
       "      <td>2017-01-05</td>\n",
       "      <td>44506.0</td>\n",
       "      <td>22707.0</td>\n",
       "      <td>2316549.0</td>\n",
       "      <td>44506.0</td>\n",
       "      <td>22419.653502</td>\n",
       "      <td>0.507666</td>\n",
       "      <td>99.229336</td>\n",
       "      <td>51.295744</td>\n",
       "      <td>0.496153</td>\n",
       "      <td>92.750095</td>\n",
       "      <td>46.818849</td>\n",
       "      <td>1.049533</td>\n",
       "      <td>1.078654</td>\n",
       "      <td>1.136998</td>\n",
       "    </tr>\n",
       "  </tbody>\n",
       "</table>\n",
       "</div>"
      ],
      "text/plain": [
       "  RPT_DAY_DT_TY  htl_rms_avl  htl_rms_act  htl_rev_const_usd_act  \\\n",
       "0    2017-01-01      44584.0      18069.0              1919278.0   \n",
       "1    2017-01-02      44506.0      16156.0              1644727.0   \n",
       "2    2017-01-03      44506.0      21533.0              2190306.0   \n",
       "3    2017-01-04      44506.0      23574.0              2411719.0   \n",
       "4    2017-01-05      44506.0      22707.0              2316549.0   \n",
       "\n",
       "   comp_rms_avl  comp_rms_act   htl_occ    htl_adr  htl_revpar  comp_occ  \\\n",
       "0       44584.0  18402.412654  0.388624  98.868890   40.253241  0.397860   \n",
       "1       44506.0  16145.604331  0.357318  98.323008   35.973401  0.353072   \n",
       "2       44506.0  20907.894596  0.485761  99.346875   48.983506  0.463943   \n",
       "3       44506.0  23034.766894  0.531713  99.995536   53.912270  0.511141   \n",
       "4       44506.0  22419.653502  0.507666  99.229336   51.295744  0.496153   \n",
       "\n",
       "    comp_adr  comp_revpar       mpi       ari       rgi  \n",
       "0  91.176314    38.429649  1.016219  1.098248  1.101329  \n",
       "1  90.219076    32.891860  1.054211  1.104781  1.153845  \n",
       "2  93.271486    43.972421  1.070747  1.075261  1.153374  \n",
       "3  93.920616    48.676046  1.061534  1.074512  1.146913  \n",
       "4  92.750095    46.818849  1.049533  1.078654  1.136998  "
      ]
     },
     "execution_count": 7,
     "metadata": {},
     "output_type": "execute_result"
    }
   ],
   "source": [
    "revenue_t.head()"
   ]
  },
  {
   "cell_type": "code",
   "execution_count": 8,
   "metadata": {},
   "outputs": [
    {
     "ename": "ImportError",
     "evalue": "cannot import name 'datetools'",
     "output_type": "error",
     "traceback": [
      "\u001b[0;31m---------------------------------------------------------------------------\u001b[0m",
      "\u001b[0;31mModuleNotFoundError\u001b[0m                       Traceback (most recent call last)",
      "\u001b[0;32m~/anaconda3/lib/python3.6/site-packages/statsmodels/compat/pandas.py\u001b[0m in \u001b[0;36m<module>\u001b[0;34m()\u001b[0m\n\u001b[1;32m     52\u001b[0m \u001b[0;32mtry\u001b[0m\u001b[0;34m:\u001b[0m\u001b[0;34m\u001b[0m\u001b[0m\n\u001b[0;32m---> 53\u001b[0;31m     \u001b[0;32mimport\u001b[0m \u001b[0mpandas\u001b[0m\u001b[0;34m.\u001b[0m\u001b[0mtseries\u001b[0m\u001b[0;34m.\u001b[0m\u001b[0mtools\u001b[0m \u001b[0;32mas\u001b[0m \u001b[0mdatetools\u001b[0m\u001b[0;34m\u001b[0m\u001b[0m\n\u001b[0m\u001b[1;32m     54\u001b[0m     \u001b[0;32mimport\u001b[0m \u001b[0mpandas\u001b[0m\u001b[0;34m.\u001b[0m\u001b[0mtseries\u001b[0m\u001b[0;34m.\u001b[0m\u001b[0mfrequencies\u001b[0m \u001b[0;32mas\u001b[0m \u001b[0mfrequencies\u001b[0m\u001b[0;34m\u001b[0m\u001b[0m\n",
      "\u001b[0;31mModuleNotFoundError\u001b[0m: No module named 'pandas.tseries.tools'",
      "\nDuring handling of the above exception, another exception occurred:\n",
      "\u001b[0;31mImportError\u001b[0m                               Traceback (most recent call last)",
      "\u001b[0;32m<ipython-input-8-409572e22954>\u001b[0m in \u001b[0;36m<module>\u001b[0;34m()\u001b[0m\n\u001b[0;32m----> 1\u001b[0;31m \u001b[0;32mfrom\u001b[0m \u001b[0mstatsmodels\u001b[0m\u001b[0;34m.\u001b[0m\u001b[0mgraphics\u001b[0m\u001b[0;34m.\u001b[0m\u001b[0mtsaplots\u001b[0m \u001b[0;32mimport\u001b[0m \u001b[0mplot_acf\u001b[0m\u001b[0;34m,\u001b[0m \u001b[0mplot_pacf\u001b[0m\u001b[0;34m\u001b[0m\u001b[0m\n\u001b[0m\u001b[1;32m      2\u001b[0m \u001b[0;32mfrom\u001b[0m \u001b[0mmatplotlib\u001b[0m \u001b[0;32mimport\u001b[0m \u001b[0mpyplot\u001b[0m \u001b[0;32mas\u001b[0m \u001b[0mplt\u001b[0m\u001b[0;34m\u001b[0m\u001b[0m\n\u001b[1;32m      3\u001b[0m \u001b[0;34m\u001b[0m\u001b[0m\n\u001b[1;32m      4\u001b[0m \u001b[0mplot_pacf\u001b[0m\u001b[0;34m(\u001b[0m\u001b[0mrevenue_t\u001b[0m\u001b[0;34m.\u001b[0m\u001b[0mhtl_rev_const_usd_act\u001b[0m\u001b[0;34m)\u001b[0m\u001b[0;34m\u001b[0m\u001b[0m\n\u001b[1;32m      5\u001b[0m \u001b[0mplt\u001b[0m\u001b[0;34m.\u001b[0m\u001b[0mshow\u001b[0m\u001b[0;34m(\u001b[0m\u001b[0;34m)\u001b[0m\u001b[0;34m\u001b[0m\u001b[0m\n",
      "\u001b[0;32m~/anaconda3/lib/python3.6/site-packages/statsmodels/graphics/tsaplots.py\u001b[0m in \u001b[0;36m<module>\u001b[0;34m()\u001b[0m\n\u001b[1;32m      4\u001b[0m \u001b[0;32mimport\u001b[0m \u001b[0mnumpy\u001b[0m \u001b[0;32mas\u001b[0m \u001b[0mnp\u001b[0m\u001b[0;34m\u001b[0m\u001b[0m\n\u001b[1;32m      5\u001b[0m \u001b[0;34m\u001b[0m\u001b[0m\n\u001b[0;32m----> 6\u001b[0;31m \u001b[0;32mfrom\u001b[0m \u001b[0mstatsmodels\u001b[0m\u001b[0;34m.\u001b[0m\u001b[0mcompat\u001b[0m\u001b[0;34m.\u001b[0m\u001b[0mpandas\u001b[0m \u001b[0;32mimport\u001b[0m \u001b[0msort_values\u001b[0m\u001b[0;34m\u001b[0m\u001b[0m\n\u001b[0m\u001b[1;32m      7\u001b[0m \u001b[0;32mfrom\u001b[0m \u001b[0mstatsmodels\u001b[0m\u001b[0;34m.\u001b[0m\u001b[0mgraphics\u001b[0m \u001b[0;32mimport\u001b[0m \u001b[0mutils\u001b[0m\u001b[0;34m\u001b[0m\u001b[0m\n\u001b[1;32m      8\u001b[0m \u001b[0;32mfrom\u001b[0m \u001b[0mstatsmodels\u001b[0m\u001b[0;34m.\u001b[0m\u001b[0mtsa\u001b[0m\u001b[0;34m.\u001b[0m\u001b[0mstattools\u001b[0m \u001b[0;32mimport\u001b[0m \u001b[0macf\u001b[0m\u001b[0;34m,\u001b[0m \u001b[0mpacf\u001b[0m\u001b[0;34m\u001b[0m\u001b[0m\n",
      "\u001b[0;32m~/anaconda3/lib/python3.6/site-packages/statsmodels/compat/pandas.py\u001b[0m in \u001b[0;36m<module>\u001b[0;34m()\u001b[0m\n\u001b[1;32m     54\u001b[0m     \u001b[0;32mimport\u001b[0m \u001b[0mpandas\u001b[0m\u001b[0;34m.\u001b[0m\u001b[0mtseries\u001b[0m\u001b[0;34m.\u001b[0m\u001b[0mfrequencies\u001b[0m \u001b[0;32mas\u001b[0m \u001b[0mfrequencies\u001b[0m\u001b[0;34m\u001b[0m\u001b[0m\n\u001b[1;32m     55\u001b[0m \u001b[0;32mexcept\u001b[0m \u001b[0mImportError\u001b[0m\u001b[0;34m:\u001b[0m\u001b[0;34m\u001b[0m\u001b[0m\n\u001b[0;32m---> 56\u001b[0;31m     \u001b[0;32mfrom\u001b[0m \u001b[0mpandas\u001b[0m\u001b[0;34m.\u001b[0m\u001b[0mcore\u001b[0m \u001b[0;32mimport\u001b[0m \u001b[0mdatetools\u001b[0m\u001b[0;34m\u001b[0m\u001b[0m\n\u001b[0m\u001b[1;32m     57\u001b[0m     \u001b[0mfrequencies\u001b[0m \u001b[0;34m=\u001b[0m \u001b[0mdatetools\u001b[0m\u001b[0;34m\u001b[0m\u001b[0m\n",
      "\u001b[0;31mImportError\u001b[0m: cannot import name 'datetools'"
     ]
    }
   ],
   "source": [
    "from statsmodels.graphics.tsaplots import plot_acf, plot_pacf\n",
    "from matplotlib import pyplot as plt\n",
    "\n",
    "plot_pacf(revenue_t.htl_rev_const_usd_act)\n",
    "plt.show()"
   ]
  },
  {
   "cell_type": "code",
   "execution_count": 9,
   "metadata": {},
   "outputs": [],
   "source": [
    "revenue_60 = revenue_t[['RPT_DAY_DT_TY', 'htl_rms_act']]"
   ]
  },
  {
   "cell_type": "code",
   "execution_count": 10,
   "metadata": {},
   "outputs": [
    {
     "data": {
      "text/html": [
       "<div>\n",
       "<style scoped>\n",
       "    .dataframe tbody tr th:only-of-type {\n",
       "        vertical-align: middle;\n",
       "    }\n",
       "\n",
       "    .dataframe tbody tr th {\n",
       "        vertical-align: top;\n",
       "    }\n",
       "\n",
       "    .dataframe thead th {\n",
       "        text-align: right;\n",
       "    }\n",
       "</style>\n",
       "<table border=\"1\" class=\"dataframe\">\n",
       "  <thead>\n",
       "    <tr style=\"text-align: right;\">\n",
       "      <th></th>\n",
       "      <th>RPT_DAY_DT_TY</th>\n",
       "      <th>htl_rms_act</th>\n",
       "    </tr>\n",
       "  </thead>\n",
       "  <tbody>\n",
       "    <tr>\n",
       "      <th>0</th>\n",
       "      <td>2017-01-01</td>\n",
       "      <td>18069.0</td>\n",
       "    </tr>\n",
       "    <tr>\n",
       "      <th>1</th>\n",
       "      <td>2017-01-02</td>\n",
       "      <td>16156.0</td>\n",
       "    </tr>\n",
       "    <tr>\n",
       "      <th>2</th>\n",
       "      <td>2017-01-03</td>\n",
       "      <td>21533.0</td>\n",
       "    </tr>\n",
       "    <tr>\n",
       "      <th>3</th>\n",
       "      <td>2017-01-04</td>\n",
       "      <td>23574.0</td>\n",
       "    </tr>\n",
       "    <tr>\n",
       "      <th>4</th>\n",
       "      <td>2017-01-05</td>\n",
       "      <td>22707.0</td>\n",
       "    </tr>\n",
       "  </tbody>\n",
       "</table>\n",
       "</div>"
      ],
      "text/plain": [
       "  RPT_DAY_DT_TY  htl_rms_act\n",
       "0    2017-01-01      18069.0\n",
       "1    2017-01-02      16156.0\n",
       "2    2017-01-03      21533.0\n",
       "3    2017-01-04      23574.0\n",
       "4    2017-01-05      22707.0"
      ]
     },
     "execution_count": 10,
     "metadata": {},
     "output_type": "execute_result"
    }
   ],
   "source": [
    "revenue_60.head()"
   ]
  },
  {
   "cell_type": "code",
   "execution_count": 11,
   "metadata": {},
   "outputs": [],
   "source": [
    "rng = list(range(0, 60)) + list(range(150, len(revenue_60)))\n",
    "\n",
    "revenue_60 = revenue_60.iloc[rng, :]"
   ]
  },
  {
   "cell_type": "code",
   "execution_count": 12,
   "metadata": {},
   "outputs": [],
   "source": [
    "for n in range(1,61):\n",
    "    col_name = 'day' + str(n)\n",
    "    revenue_60[col_name] = revenue_60['htl_rms_act'].shift(n)"
   ]
  },
  {
   "cell_type": "code",
   "execution_count": 13,
   "metadata": {},
   "outputs": [
    {
     "data": {
      "text/html": [
       "<div>\n",
       "<style scoped>\n",
       "    .dataframe tbody tr th:only-of-type {\n",
       "        vertical-align: middle;\n",
       "    }\n",
       "\n",
       "    .dataframe tbody tr th {\n",
       "        vertical-align: top;\n",
       "    }\n",
       "\n",
       "    .dataframe thead th {\n",
       "        text-align: right;\n",
       "    }\n",
       "</style>\n",
       "<table border=\"1\" class=\"dataframe\">\n",
       "  <thead>\n",
       "    <tr style=\"text-align: right;\">\n",
       "      <th></th>\n",
       "      <th>RPT_DAY_DT_TY</th>\n",
       "      <th>htl_rms_act</th>\n",
       "      <th>day1</th>\n",
       "      <th>day2</th>\n",
       "      <th>day3</th>\n",
       "      <th>day4</th>\n",
       "      <th>day5</th>\n",
       "      <th>day6</th>\n",
       "      <th>day7</th>\n",
       "      <th>day8</th>\n",
       "      <th>...</th>\n",
       "      <th>day51</th>\n",
       "      <th>day52</th>\n",
       "      <th>day53</th>\n",
       "      <th>day54</th>\n",
       "      <th>day55</th>\n",
       "      <th>day56</th>\n",
       "      <th>day57</th>\n",
       "      <th>day58</th>\n",
       "      <th>day59</th>\n",
       "      <th>day60</th>\n",
       "    </tr>\n",
       "  </thead>\n",
       "  <tbody>\n",
       "    <tr>\n",
       "      <th>0</th>\n",
       "      <td>2017-01-01</td>\n",
       "      <td>18069.0</td>\n",
       "      <td>NaN</td>\n",
       "      <td>NaN</td>\n",
       "      <td>NaN</td>\n",
       "      <td>NaN</td>\n",
       "      <td>NaN</td>\n",
       "      <td>NaN</td>\n",
       "      <td>NaN</td>\n",
       "      <td>NaN</td>\n",
       "      <td>...</td>\n",
       "      <td>NaN</td>\n",
       "      <td>NaN</td>\n",
       "      <td>NaN</td>\n",
       "      <td>NaN</td>\n",
       "      <td>NaN</td>\n",
       "      <td>NaN</td>\n",
       "      <td>NaN</td>\n",
       "      <td>NaN</td>\n",
       "      <td>NaN</td>\n",
       "      <td>NaN</td>\n",
       "    </tr>\n",
       "    <tr>\n",
       "      <th>1</th>\n",
       "      <td>2017-01-02</td>\n",
       "      <td>16156.0</td>\n",
       "      <td>18069.0</td>\n",
       "      <td>NaN</td>\n",
       "      <td>NaN</td>\n",
       "      <td>NaN</td>\n",
       "      <td>NaN</td>\n",
       "      <td>NaN</td>\n",
       "      <td>NaN</td>\n",
       "      <td>NaN</td>\n",
       "      <td>...</td>\n",
       "      <td>NaN</td>\n",
       "      <td>NaN</td>\n",
       "      <td>NaN</td>\n",
       "      <td>NaN</td>\n",
       "      <td>NaN</td>\n",
       "      <td>NaN</td>\n",
       "      <td>NaN</td>\n",
       "      <td>NaN</td>\n",
       "      <td>NaN</td>\n",
       "      <td>NaN</td>\n",
       "    </tr>\n",
       "    <tr>\n",
       "      <th>2</th>\n",
       "      <td>2017-01-03</td>\n",
       "      <td>21533.0</td>\n",
       "      <td>16156.0</td>\n",
       "      <td>18069.0</td>\n",
       "      <td>NaN</td>\n",
       "      <td>NaN</td>\n",
       "      <td>NaN</td>\n",
       "      <td>NaN</td>\n",
       "      <td>NaN</td>\n",
       "      <td>NaN</td>\n",
       "      <td>...</td>\n",
       "      <td>NaN</td>\n",
       "      <td>NaN</td>\n",
       "      <td>NaN</td>\n",
       "      <td>NaN</td>\n",
       "      <td>NaN</td>\n",
       "      <td>NaN</td>\n",
       "      <td>NaN</td>\n",
       "      <td>NaN</td>\n",
       "      <td>NaN</td>\n",
       "      <td>NaN</td>\n",
       "    </tr>\n",
       "    <tr>\n",
       "      <th>3</th>\n",
       "      <td>2017-01-04</td>\n",
       "      <td>23574.0</td>\n",
       "      <td>21533.0</td>\n",
       "      <td>16156.0</td>\n",
       "      <td>18069.0</td>\n",
       "      <td>NaN</td>\n",
       "      <td>NaN</td>\n",
       "      <td>NaN</td>\n",
       "      <td>NaN</td>\n",
       "      <td>NaN</td>\n",
       "      <td>...</td>\n",
       "      <td>NaN</td>\n",
       "      <td>NaN</td>\n",
       "      <td>NaN</td>\n",
       "      <td>NaN</td>\n",
       "      <td>NaN</td>\n",
       "      <td>NaN</td>\n",
       "      <td>NaN</td>\n",
       "      <td>NaN</td>\n",
       "      <td>NaN</td>\n",
       "      <td>NaN</td>\n",
       "    </tr>\n",
       "    <tr>\n",
       "      <th>4</th>\n",
       "      <td>2017-01-05</td>\n",
       "      <td>22707.0</td>\n",
       "      <td>23574.0</td>\n",
       "      <td>21533.0</td>\n",
       "      <td>16156.0</td>\n",
       "      <td>18069.0</td>\n",
       "      <td>NaN</td>\n",
       "      <td>NaN</td>\n",
       "      <td>NaN</td>\n",
       "      <td>NaN</td>\n",
       "      <td>...</td>\n",
       "      <td>NaN</td>\n",
       "      <td>NaN</td>\n",
       "      <td>NaN</td>\n",
       "      <td>NaN</td>\n",
       "      <td>NaN</td>\n",
       "      <td>NaN</td>\n",
       "      <td>NaN</td>\n",
       "      <td>NaN</td>\n",
       "      <td>NaN</td>\n",
       "      <td>NaN</td>\n",
       "    </tr>\n",
       "  </tbody>\n",
       "</table>\n",
       "<p>5 rows × 62 columns</p>\n",
       "</div>"
      ],
      "text/plain": [
       "  RPT_DAY_DT_TY  htl_rms_act     day1     day2     day3     day4  day5  day6  \\\n",
       "0    2017-01-01      18069.0      NaN      NaN      NaN      NaN   NaN   NaN   \n",
       "1    2017-01-02      16156.0  18069.0      NaN      NaN      NaN   NaN   NaN   \n",
       "2    2017-01-03      21533.0  16156.0  18069.0      NaN      NaN   NaN   NaN   \n",
       "3    2017-01-04      23574.0  21533.0  16156.0  18069.0      NaN   NaN   NaN   \n",
       "4    2017-01-05      22707.0  23574.0  21533.0  16156.0  18069.0   NaN   NaN   \n",
       "\n",
       "   day7  day8  ...  day51  day52  day53  day54  day55  day56  day57  day58  \\\n",
       "0   NaN   NaN  ...    NaN    NaN    NaN    NaN    NaN    NaN    NaN    NaN   \n",
       "1   NaN   NaN  ...    NaN    NaN    NaN    NaN    NaN    NaN    NaN    NaN   \n",
       "2   NaN   NaN  ...    NaN    NaN    NaN    NaN    NaN    NaN    NaN    NaN   \n",
       "3   NaN   NaN  ...    NaN    NaN    NaN    NaN    NaN    NaN    NaN    NaN   \n",
       "4   NaN   NaN  ...    NaN    NaN    NaN    NaN    NaN    NaN    NaN    NaN   \n",
       "\n",
       "   day59  day60  \n",
       "0    NaN    NaN  \n",
       "1    NaN    NaN  \n",
       "2    NaN    NaN  \n",
       "3    NaN    NaN  \n",
       "4    NaN    NaN  \n",
       "\n",
       "[5 rows x 62 columns]"
      ]
     },
     "execution_count": 13,
     "metadata": {},
     "output_type": "execute_result"
    }
   ],
   "source": [
    "revenue_60.head()"
   ]
  },
  {
   "cell_type": "code",
   "execution_count": 14,
   "metadata": {
    "scrolled": true
   },
   "outputs": [],
   "source": [
    "df = revenue_60.dropna()"
   ]
  },
  {
   "cell_type": "code",
   "execution_count": 15,
   "metadata": {},
   "outputs": [
    {
     "data": {
      "text/html": [
       "<div>\n",
       "<style scoped>\n",
       "    .dataframe tbody tr th:only-of-type {\n",
       "        vertical-align: middle;\n",
       "    }\n",
       "\n",
       "    .dataframe tbody tr th {\n",
       "        vertical-align: top;\n",
       "    }\n",
       "\n",
       "    .dataframe thead th {\n",
       "        text-align: right;\n",
       "    }\n",
       "</style>\n",
       "<table border=\"1\" class=\"dataframe\">\n",
       "  <thead>\n",
       "    <tr style=\"text-align: right;\">\n",
       "      <th></th>\n",
       "      <th>RPT_DAY_DT_TY</th>\n",
       "      <th>htl_rms_act</th>\n",
       "      <th>day1</th>\n",
       "      <th>day2</th>\n",
       "      <th>day3</th>\n",
       "      <th>day4</th>\n",
       "      <th>day5</th>\n",
       "      <th>day6</th>\n",
       "      <th>day7</th>\n",
       "      <th>day8</th>\n",
       "      <th>...</th>\n",
       "      <th>day51</th>\n",
       "      <th>day52</th>\n",
       "      <th>day53</th>\n",
       "      <th>day54</th>\n",
       "      <th>day55</th>\n",
       "      <th>day56</th>\n",
       "      <th>day57</th>\n",
       "      <th>day58</th>\n",
       "      <th>day59</th>\n",
       "      <th>day60</th>\n",
       "    </tr>\n",
       "  </thead>\n",
       "  <tbody>\n",
       "    <tr>\n",
       "      <th>150</th>\n",
       "      <td>2017-05-31</td>\n",
       "      <td>30323.0</td>\n",
       "      <td>34710.0</td>\n",
       "      <td>34482.0</td>\n",
       "      <td>30668.0</td>\n",
       "      <td>21466.0</td>\n",
       "      <td>33637.0</td>\n",
       "      <td>32948.0</td>\n",
       "      <td>32884.0</td>\n",
       "      <td>35905.0</td>\n",
       "      <td>...</td>\n",
       "      <td>32786.0</td>\n",
       "      <td>29142.0</td>\n",
       "      <td>19864.0</td>\n",
       "      <td>23750.0</td>\n",
       "      <td>23103.0</td>\n",
       "      <td>22707.0</td>\n",
       "      <td>23574.0</td>\n",
       "      <td>21533.0</td>\n",
       "      <td>16156.0</td>\n",
       "      <td>18069.0</td>\n",
       "    </tr>\n",
       "    <tr>\n",
       "      <th>151</th>\n",
       "      <td>2017-06-01</td>\n",
       "      <td>30318.0</td>\n",
       "      <td>30323.0</td>\n",
       "      <td>34710.0</td>\n",
       "      <td>34482.0</td>\n",
       "      <td>30668.0</td>\n",
       "      <td>21466.0</td>\n",
       "      <td>33637.0</td>\n",
       "      <td>32948.0</td>\n",
       "      <td>32884.0</td>\n",
       "      <td>...</td>\n",
       "      <td>32722.0</td>\n",
       "      <td>32786.0</td>\n",
       "      <td>29142.0</td>\n",
       "      <td>19864.0</td>\n",
       "      <td>23750.0</td>\n",
       "      <td>23103.0</td>\n",
       "      <td>22707.0</td>\n",
       "      <td>23574.0</td>\n",
       "      <td>21533.0</td>\n",
       "      <td>16156.0</td>\n",
       "    </tr>\n",
       "    <tr>\n",
       "      <th>152</th>\n",
       "      <td>2017-06-02</td>\n",
       "      <td>33259.0</td>\n",
       "      <td>30318.0</td>\n",
       "      <td>30323.0</td>\n",
       "      <td>34710.0</td>\n",
       "      <td>34482.0</td>\n",
       "      <td>30668.0</td>\n",
       "      <td>21466.0</td>\n",
       "      <td>33637.0</td>\n",
       "      <td>32948.0</td>\n",
       "      <td>...</td>\n",
       "      <td>27986.0</td>\n",
       "      <td>32722.0</td>\n",
       "      <td>32786.0</td>\n",
       "      <td>29142.0</td>\n",
       "      <td>19864.0</td>\n",
       "      <td>23750.0</td>\n",
       "      <td>23103.0</td>\n",
       "      <td>22707.0</td>\n",
       "      <td>23574.0</td>\n",
       "      <td>21533.0</td>\n",
       "    </tr>\n",
       "    <tr>\n",
       "      <th>153</th>\n",
       "      <td>2017-06-03</td>\n",
       "      <td>35800.0</td>\n",
       "      <td>33259.0</td>\n",
       "      <td>30318.0</td>\n",
       "      <td>30323.0</td>\n",
       "      <td>34710.0</td>\n",
       "      <td>34482.0</td>\n",
       "      <td>30668.0</td>\n",
       "      <td>21466.0</td>\n",
       "      <td>33637.0</td>\n",
       "      <td>...</td>\n",
       "      <td>26768.0</td>\n",
       "      <td>27986.0</td>\n",
       "      <td>32722.0</td>\n",
       "      <td>32786.0</td>\n",
       "      <td>29142.0</td>\n",
       "      <td>19864.0</td>\n",
       "      <td>23750.0</td>\n",
       "      <td>23103.0</td>\n",
       "      <td>22707.0</td>\n",
       "      <td>23574.0</td>\n",
       "    </tr>\n",
       "    <tr>\n",
       "      <th>154</th>\n",
       "      <td>2017-06-04</td>\n",
       "      <td>25536.0</td>\n",
       "      <td>35800.0</td>\n",
       "      <td>33259.0</td>\n",
       "      <td>30318.0</td>\n",
       "      <td>30323.0</td>\n",
       "      <td>34710.0</td>\n",
       "      <td>34482.0</td>\n",
       "      <td>30668.0</td>\n",
       "      <td>21466.0</td>\n",
       "      <td>...</td>\n",
       "      <td>28559.0</td>\n",
       "      <td>26768.0</td>\n",
       "      <td>27986.0</td>\n",
       "      <td>32722.0</td>\n",
       "      <td>32786.0</td>\n",
       "      <td>29142.0</td>\n",
       "      <td>19864.0</td>\n",
       "      <td>23750.0</td>\n",
       "      <td>23103.0</td>\n",
       "      <td>22707.0</td>\n",
       "    </tr>\n",
       "  </tbody>\n",
       "</table>\n",
       "<p>5 rows × 62 columns</p>\n",
       "</div>"
      ],
      "text/plain": [
       "    RPT_DAY_DT_TY  htl_rms_act     day1     day2     day3     day4     day5  \\\n",
       "150    2017-05-31      30323.0  34710.0  34482.0  30668.0  21466.0  33637.0   \n",
       "151    2017-06-01      30318.0  30323.0  34710.0  34482.0  30668.0  21466.0   \n",
       "152    2017-06-02      33259.0  30318.0  30323.0  34710.0  34482.0  30668.0   \n",
       "153    2017-06-03      35800.0  33259.0  30318.0  30323.0  34710.0  34482.0   \n",
       "154    2017-06-04      25536.0  35800.0  33259.0  30318.0  30323.0  34710.0   \n",
       "\n",
       "        day6     day7     day8  ...    day51    day52    day53    day54  \\\n",
       "150  32948.0  32884.0  35905.0  ...  32786.0  29142.0  19864.0  23750.0   \n",
       "151  33637.0  32948.0  32884.0  ...  32722.0  32786.0  29142.0  19864.0   \n",
       "152  21466.0  33637.0  32948.0  ...  27986.0  32722.0  32786.0  29142.0   \n",
       "153  30668.0  21466.0  33637.0  ...  26768.0  27986.0  32722.0  32786.0   \n",
       "154  34482.0  30668.0  21466.0  ...  28559.0  26768.0  27986.0  32722.0   \n",
       "\n",
       "       day55    day56    day57    day58    day59    day60  \n",
       "150  23103.0  22707.0  23574.0  21533.0  16156.0  18069.0  \n",
       "151  23750.0  23103.0  22707.0  23574.0  21533.0  16156.0  \n",
       "152  19864.0  23750.0  23103.0  22707.0  23574.0  21533.0  \n",
       "153  29142.0  19864.0  23750.0  23103.0  22707.0  23574.0  \n",
       "154  32786.0  29142.0  19864.0  23750.0  23103.0  22707.0  \n",
       "\n",
       "[5 rows x 62 columns]"
      ]
     },
     "execution_count": 15,
     "metadata": {},
     "output_type": "execute_result"
    }
   ],
   "source": [
    "df.head()"
   ]
  },
  {
   "cell_type": "code",
   "execution_count": 16,
   "metadata": {},
   "outputs": [],
   "source": [
    "X_train = df[df['RPT_DAY_DT_TY'] < '2018-07-01'].drop(columns=['RPT_DAY_DT_TY'])\n",
    "X_test = df[df['RPT_DAY_DT_TY'] >= '2018-07-01'].drop(columns=['RPT_DAY_DT_TY'])\n",
    "y_train = df[df['RPT_DAY_DT_TY'] < '2018-07-01']['htl_rms_act']\n",
    "y_test = df[df['RPT_DAY_DT_TY'] >= '2018-07-01']['htl_rms_act']"
   ]
  },
  {
   "cell_type": "markdown",
   "metadata": {},
   "source": [
    "# Regression Tree"
   ]
  },
  {
   "cell_type": "code",
   "execution_count": 17,
   "metadata": {},
   "outputs": [
    {
     "data": {
      "text/plain": [
       "DecisionTreeClassifier(class_weight=None, criterion='gini', max_depth=None,\n",
       "            max_features=None, max_leaf_nodes=None,\n",
       "            min_impurity_decrease=0.0, min_impurity_split=None,\n",
       "            min_samples_leaf=1, min_samples_split=2,\n",
       "            min_weight_fraction_leaf=0.0, presort=False, random_state=0,\n",
       "            splitter='best')"
      ]
     },
     "execution_count": 17,
     "metadata": {},
     "output_type": "execute_result"
    }
   ],
   "source": [
    "from sklearn.tree import DecisionTreeClassifier\n",
    "\n",
    "clf = DecisionTreeClassifier(random_state=0)\n",
    "clf.fit(X_train, y_train)"
   ]
  },
  {
   "cell_type": "code",
   "execution_count": 18,
   "metadata": {},
   "outputs": [
    {
     "name": "stdout",
     "output_type": "stream",
     "text": [
      "0.9964333911695011\n",
      "{'max_depth': 6}\n",
      "DecisionTreeRegressor(criterion='mse', max_depth=6, max_features=None,\n",
      "           max_leaf_nodes=None, min_impurity_decrease=0.0,\n",
      "           min_impurity_split=None, min_samples_leaf=1,\n",
      "           min_samples_split=2, min_weight_fraction_leaf=0.0,\n",
      "           presort=False, random_state=41, splitter='best')\n"
     ]
    }
   ],
   "source": [
    "from sklearn.model_selection import GridSearchCV\n",
    "from sklearn.tree import DecisionTreeRegressor\n",
    "\n",
    "gs_dt = GridSearchCV(estimator=DecisionTreeRegressor(random_state=41),\n",
    "                  param_grid=[{'max_depth': [1, 2, 3, 4, 5, 6, 7, None],}],\n",
    "                  cv=5,\n",
    "                  n_jobs=-1)\n",
    "\n",
    "gs_dt.fit(X_train, y_train)\n",
    "\n",
    "print(gs_dt.best_score_)\n",
    "print(gs_dt.best_params_)\n",
    "print(gs_dt.best_estimator_)"
   ]
  },
  {
   "cell_type": "code",
   "execution_count": 19,
   "metadata": {},
   "outputs": [
    {
     "data": {
      "text/plain": [
       "{'cv': 5,\n",
       " 'error_score': 'raise',\n",
       " 'estimator': DecisionTreeRegressor(criterion='mse', max_depth=None, max_features=None,\n",
       "            max_leaf_nodes=None, min_impurity_decrease=0.0,\n",
       "            min_impurity_split=None, min_samples_leaf=1,\n",
       "            min_samples_split=2, min_weight_fraction_leaf=0.0,\n",
       "            presort=False, random_state=41, splitter='best'),\n",
       " 'estimator__criterion': 'mse',\n",
       " 'estimator__max_depth': None,\n",
       " 'estimator__max_features': None,\n",
       " 'estimator__max_leaf_nodes': None,\n",
       " 'estimator__min_impurity_decrease': 0.0,\n",
       " 'estimator__min_impurity_split': None,\n",
       " 'estimator__min_samples_leaf': 1,\n",
       " 'estimator__min_samples_split': 2,\n",
       " 'estimator__min_weight_fraction_leaf': 0.0,\n",
       " 'estimator__presort': False,\n",
       " 'estimator__random_state': 41,\n",
       " 'estimator__splitter': 'best',\n",
       " 'fit_params': None,\n",
       " 'iid': True,\n",
       " 'n_jobs': -1,\n",
       " 'param_grid': [{'max_depth': [1, 2, 3, 4, 5, 6, 7, None]}],\n",
       " 'pre_dispatch': '2*n_jobs',\n",
       " 'refit': True,\n",
       " 'return_train_score': 'warn',\n",
       " 'scoring': None,\n",
       " 'verbose': 0}"
      ]
     },
     "execution_count": 19,
     "metadata": {},
     "output_type": "execute_result"
    }
   ],
   "source": [
    "gs_dt.get_params()"
   ]
  },
  {
   "cell_type": "code",
   "execution_count": 20,
   "metadata": {},
   "outputs": [],
   "source": [
    "y_pred = gs_dt.predict(X_test)"
   ]
  },
  {
   "cell_type": "code",
   "execution_count": 21,
   "metadata": {},
   "outputs": [
    {
     "data": {
      "text/plain": [
       "247.5370922095846"
      ]
     },
     "execution_count": 21,
     "metadata": {},
     "output_type": "execute_result"
    }
   ],
   "source": [
    "from sklearn.metrics import mean_squared_error\n",
    "from math import sqrt\n",
    "\n",
    "rms = sqrt(mean_squared_error(y_test, y_pred))\n",
    "rms"
   ]
  },
  {
   "cell_type": "code",
   "execution_count": 22,
   "metadata": {},
   "outputs": [],
   "source": [
    "def mean_absolute_percentage_error(y_true, y_pred):\n",
    "    return np.mean(np.abs((y_true - y_pred) / y_true))"
   ]
  },
  {
   "cell_type": "code",
   "execution_count": 23,
   "metadata": {},
   "outputs": [
    {
     "data": {
      "text/plain": [
       "0.005522159741633205"
      ]
     },
     "execution_count": 23,
     "metadata": {},
     "output_type": "execute_result"
    }
   ],
   "source": [
    "mean_absolute_percentage_error(np.array(y_test), y_pred)"
   ]
  },
  {
   "cell_type": "markdown",
   "metadata": {},
   "source": [
    "# Linear Regression"
   ]
  },
  {
   "cell_type": "code",
   "execution_count": 24,
   "metadata": {},
   "outputs": [
    {
     "data": {
      "text/plain": [
       "1.0"
      ]
     },
     "execution_count": 24,
     "metadata": {},
     "output_type": "execute_result"
    }
   ],
   "source": [
    "from sklearn.linear_model import LinearRegression\n",
    "reg = LinearRegression()\n",
    "\n",
    "reg.fit(X_train, y_train)\n",
    "reg.score(X_train, y_train)"
   ]
  },
  {
   "cell_type": "code",
   "execution_count": 25,
   "metadata": {},
   "outputs": [],
   "source": [
    "y_pred_linear = reg.predict(np.array(X_test))"
   ]
  },
  {
   "cell_type": "code",
   "execution_count": 26,
   "metadata": {},
   "outputs": [
    {
     "data": {
      "text/plain": [
       "4.610356120355254e-16"
      ]
     },
     "execution_count": 26,
     "metadata": {},
     "output_type": "execute_result"
    }
   ],
   "source": [
    "mean_absolute_percentage_error(y_test, y_pred_linear)"
   ]
  },
  {
   "cell_type": "code",
   "execution_count": 27,
   "metadata": {},
   "outputs": [
    {
     "data": {
      "text/plain": [
       "3.623621552370229e-22"
      ]
     },
     "execution_count": 27,
     "metadata": {},
     "output_type": "execute_result"
    }
   ],
   "source": [
    "from sklearn.metrics import mean_squared_error\n",
    "\n",
    "mean_squared_error(y_test, y_pred_linear)"
   ]
  },
  {
   "cell_type": "code",
   "execution_count": 35,
   "metadata": {},
   "outputs": [
    {
     "data": {
      "text/plain": [
       "array([25275.        , 26354.7       , 22964.75      , 23372.        ,\n",
       "       30315.2       , 36051.        , 37613.        , 27811.        ,\n",
       "       38125.42857143, 41928.        , 41928.        , 39013.5       ,\n",
       "       39408.5       , 41928.        , 29988.5       , 38719.83333333,\n",
       "       41209.75      , 41209.75      , 39408.5       , 40619.        ,\n",
       "       41209.75      , 29761.        , 39013.5       , 41209.75      ,\n",
       "       41209.75      , 39013.5       , 40238.83333333, 41209.75      ,\n",
       "       27811.        , 34606.61538462, 37613.        , 38385.85714286,\n",
       "       36534.38461538, 38385.85714286, 39776.71428571, 27811.        ,\n",
       "       35499.45454545, 38719.83333333, 38385.85714286, 36051.        ,\n",
       "       37041.08333333, 39013.5       , 26354.7       , 35104.72727273,\n",
       "       38125.42857143, 37613.        , 33842.75      , 33842.75      ,\n",
       "       36534.38461538, 25275.        , 34606.61538462, 38125.42857143,\n",
       "       37821.        , 33242.41666667, 32191.        , 33842.75      ,\n",
       "       22964.75      , 31295.5       , 35104.72727273, 33842.75      ,\n",
       "       29761.        , 33575.5       , 40619.        , 29988.5       ,\n",
       "       16405.        , 27811.        , 31047.14285714, 31047.14285714,\n",
       "       31295.5       , 32933.        , 24232.8       , 35104.72727273,\n",
       "       39408.5       , 39013.5       , 35499.45454545, 34606.61538462,\n",
       "       36051.        , 25746.5       , 34606.61538462, 38719.83333333,\n",
       "       38719.83333333, 35104.72727273, 35783.30769231, 38719.83333333,\n",
       "       26766.75      , 35783.30769231, 39776.71428571, 39408.5       ,\n",
       "       35499.45454545, 35104.72727273, 36781.22222222, 24232.8       ,\n",
       "       32453.22222222, 36534.38461538, 37041.08333333, 35104.72727273,\n",
       "       37613.        , 40619.        , 28475.        , 34260.        ,\n",
       "       38385.85714286, 38719.83333333, 36051.        , 38385.85714286,\n",
       "       40238.83333333, 27811.        , 36534.38461538, 40619.        ,\n",
       "       40619.        , 37821.        , 38385.85714286, 40238.83333333,\n",
       "       27608.8       , 37041.08333333, 41209.75      , 40619.        ,\n",
       "       37041.08333333, 37041.08333333, 38719.83333333, 24784.75      ,\n",
       "       31047.14285714, 31047.14285714, 29377.5       , 32933.        ,\n",
       "       36781.22222222, 38719.83333333, 26354.7       , 35783.30769231,\n",
       "       40619.        , 41928.        , 37821.        , 38125.42857143,\n",
       "       38719.83333333, 27608.8       , 35104.72727273, 40619.        ,\n",
       "       41209.75      , 36051.        , 34260.        , 35499.45454545,\n",
       "       22172.2       , 24232.8       , 22964.75      , 22964.75      ,\n",
       "       28475.        , 32191.        , 27608.8       , 19435.75      ,\n",
       "       29042.27272727, 33575.5       , 33842.75      , 31295.5       ,\n",
       "       31295.5       , 32933.        , 23695.        , 34260.        ,\n",
       "       38385.85714286, 37613.        , 32933.        , 29988.5       ,\n",
       "       31047.14285714, 23372.        , 32933.        , 36051.        ,\n",
       "       35783.30769231, 31047.14285714, 29042.27272727, 29988.5       ,\n",
       "       20943.5       , 26766.75      , 27811.        , 25746.5       ,\n",
       "       23372.        , 24784.75      , 27608.8       , 19995.25      ,\n",
       "       19435.75      , 19435.75      , 25746.5       , 29042.27272727,\n",
       "       31295.5       , 31649.        , 24232.8       , 27608.8       ,\n",
       "       18198.        , 21705.        , 24232.8       , 25746.5       ,\n",
       "       25746.5       , 19995.25      , 29042.27272727, 32191.        ,\n",
       "       32933.        , 29761.        , 27608.8       , 27608.8       ,\n",
       "       21705.        , 31649.        , 35783.30769231, 35499.45454545,\n",
       "       31295.5       , 30315.2       , 32191.        ])"
      ]
     },
     "execution_count": 35,
     "metadata": {},
     "output_type": "execute_result"
    }
   ],
   "source": [
    "y_pred"
   ]
  },
  {
   "cell_type": "code",
   "execution_count": 34,
   "metadata": {},
   "outputs": [
    {
     "data": {
      "text/plain": [
       "array([25535., 26108., 22833., 23452., 30210., 35999., 37599., 27894.,\n",
       "       38006., 41752., 41822., 38956., 39482., 40975., 30207., 38723.,\n",
       "       41995., 41575., 39538., 40594., 41733., 29884., 38934., 41753.,\n",
       "       41101., 38995., 40195., 41505., 28021., 34740., 37725., 38542.,\n",
       "       36440., 38354., 39902., 27794., 35570., 38841., 38445., 36079.,\n",
       "       37048., 38913., 26432., 35003., 38131., 37620., 33969., 34013.,\n",
       "       36659., 25010., 34450., 38117., 37839., 33327., 31974., 34001.,\n",
       "       23026., 31681., 35168., 33779., 29706., 33558., 40534., 30096.,\n",
       "       17770., 28061., 31174., 31036., 31434., 32961., 24540., 35145.,\n",
       "       39298., 39144., 35414., 34688., 36054., 25634., 34605., 38687.,\n",
       "       38708., 35173., 35932., 38626., 26712., 35894., 39910., 39452.,\n",
       "       35465., 35249., 36767., 24344., 32646., 36550., 37040., 35035.,\n",
       "       37490., 40574., 28900., 34404., 38337., 38660., 36150., 38312.,\n",
       "       40268., 27851., 36558., 40642., 40762., 37803., 38529., 40376.,\n",
       "       27301., 36977., 41582., 40871., 37014., 36981., 38583., 24254.,\n",
       "       30852., 31001., 29449., 32961., 36752., 38586., 26432., 35845.,\n",
       "       40480., 41546., 37806., 38011., 38857., 26982., 35259., 40861.,\n",
       "       41063., 36100., 34296., 35503., 22420., 24105., 23070., 23161.,\n",
       "       28965., 32229., 27514., 19132., 29071., 33684., 34119., 31394.,\n",
       "       31652., 32903., 23916., 34395., 38332., 37637., 32840., 30231.,\n",
       "       30995., 23328., 32696., 36103., 35674., 31088., 29008., 30339.,\n",
       "       20677., 26738., 27988., 25912., 23476., 24130., 26970., 20276.,\n",
       "       19208., 19556., 25506., 29257., 31438., 31797., 24562., 27602.,\n",
       "       16790., 21938., 24436., 25264., 25361., 19718., 28817., 32099.,\n",
       "       32692., 29558., 27492., 27646., 21567., 31799., 35740., 35535.,\n",
       "       31419., 30075., 32103.])"
      ]
     },
     "execution_count": 34,
     "metadata": {},
     "output_type": "execute_result"
    }
   ],
   "source": [
    "np.array(y_test)"
   ]
  },
  {
   "cell_type": "markdown",
   "metadata": {},
   "source": [
    "# KNN"
   ]
  },
  {
   "cell_type": "code",
   "execution_count": 29,
   "metadata": {},
   "outputs": [
    {
     "data": {
      "text/plain": [
       "GridSearchCV(cv=5, error_score='raise',\n",
       "       estimator=KNeighborsRegressor(algorithm='auto', leaf_size=30, metric='minkowski',\n",
       "          metric_params=None, n_jobs=1, n_neighbors=5, p=2,\n",
       "          weights='uniform'),\n",
       "       fit_params=None, iid=True, n_jobs=-1,\n",
       "       param_grid=[{'n_neighbors': [1, 3, 5, 7, 9]}],\n",
       "       pre_dispatch='2*n_jobs', refit=True, return_train_score='warn',\n",
       "       scoring=None, verbose=0)"
      ]
     },
     "execution_count": 29,
     "metadata": {},
     "output_type": "execute_result"
    }
   ],
   "source": [
    "from sklearn.neighbors import KNeighborsRegressor\n",
    "\n",
    "\n",
    "knn = GridSearchCV(estimator=KNeighborsRegressor(),\n",
    "                  param_grid=[{'n_neighbors': [1, 3, 5, 7, 9],}],\n",
    "                  cv=5,\n",
    "                  n_jobs=-1)\n",
    "\n",
    "knn.fit(X_train, y_train)"
   ]
  },
  {
   "cell_type": "code",
   "execution_count": 30,
   "metadata": {},
   "outputs": [],
   "source": [
    "y_pred_knn = knn.predict(X_test)"
   ]
  },
  {
   "cell_type": "code",
   "execution_count": 31,
   "metadata": {},
   "outputs": [
    {
     "data": {
      "text/plain": [
       "0.09208147993112537"
      ]
     },
     "execution_count": 31,
     "metadata": {},
     "output_type": "execute_result"
    }
   ],
   "source": [
    "mean_absolute_percentage_error(y_test, y_pred_knn)"
   ]
  },
  {
   "cell_type": "code",
   "execution_count": 32,
   "metadata": {},
   "outputs": [
    {
     "data": {
      "text/plain": [
       "12965086.635893695"
      ]
     },
     "execution_count": 32,
     "metadata": {},
     "output_type": "execute_result"
    }
   ],
   "source": [
    "mean_squared_error(y_test, y_pred_knn)"
   ]
  },
  {
   "cell_type": "code",
   "execution_count": 2,
   "metadata": {},
   "outputs": [
    {
     "data": {
      "text/html": [
       "\n",
       "        <div>\n",
       "            <p><b>SparkContext</b></p>\n",
       "\n",
       "            <p><a href=\"http://172.24.4.109:4040\">Spark UI</a></p>\n",
       "\n",
       "            <dl>\n",
       "              <dt>Version</dt>\n",
       "                <dd><code>v2.4.0</code></dd>\n",
       "              <dt>Master</dt>\n",
       "                <dd><code>local[*]</code></dd>\n",
       "              <dt>AppName</dt>\n",
       "                <dd><code>pyspark-shell</code></dd>\n",
       "            </dl>\n",
       "        </div>\n",
       "        "
      ],
      "text/plain": [
       "<SparkContext master=local[*] appName=pyspark-shell>"
      ]
     },
     "execution_count": 2,
     "metadata": {},
     "output_type": "execute_result"
    }
   ],
   "source": [
    "import pyspark\n",
    "from pyspark import SparkContext\n",
    "\n",
    "SparkContext.getOrCreate()"
   ]
  }
 ],
 "metadata": {
  "kernelspec": {
   "display_name": "Python 3",
   "language": "python",
   "name": "python3"
  },
  "language_info": {
   "codemirror_mode": {
    "name": "ipython",
    "version": 3
   },
   "file_extension": ".py",
   "mimetype": "text/x-python",
   "name": "python",
   "nbconvert_exporter": "python",
   "pygments_lexer": "ipython3",
   "version": "3.6.4"
  }
 },
 "nbformat": 4,
 "nbformat_minor": 2
}
